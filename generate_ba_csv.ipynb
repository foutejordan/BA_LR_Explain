{
 "cells": [
  {
   "cell_type": "code",
   "execution_count": 1,
   "id": "initial_id",
   "metadata": {
    "collapsed": true,
    "ExecuteTime": {
     "end_time": "2023-12-06T13:45:12.943681671Z",
     "start_time": "2023-12-06T13:45:12.670546416Z"
    }
   },
   "outputs": [],
   "source": [
    "import pandas as pd\n",
    "import numpy as np\n",
    "import re\n",
    "\n",
    "def readVectors_test(filePath):\n",
    "    vectors = []\n",
    "    utt = []\n",
    "    with open(filePath, \"r\") as f:\n",
    "        lignes = f.readlines()\n",
    "        line_idx = 0\n",
    "        last_printed_percent = -1\n",
    "        number_of_lines = len(lignes)\n",
    "\n",
    "        for ligne in lignes:\n",
    "            if ligne:\n",
    "                match = re.match(r'^(\\S+)\\s+\\[([\\d\\s.]+)]$', ligne)\n",
    "                if match:\n",
    "                    identifiant, elements_str = match.group(1), match.group(2)\n",
    "                    elements = np.array([float(e) for e in elements_str.split()])\n",
    "                    utt.append(identifiant)\n",
    "                    vectors.append(elements)\n",
    "\n",
    "                    # Afficher la progression\n",
    "                    line_idx += 1\n",
    "                    percent = int((line_idx / number_of_lines) * 100)\n",
    "                    if percent % 10 == 0 and percent != last_printed_percent:\n",
    "                        last_printed_percent = percent\n",
    "                else:\n",
    "                    print(f\"Erreur à la ligne {line_idx} : {ligne}\")\n",
    "\n",
    "    return utt, np.array(vectors)"
   ]
  },
  {
   "cell_type": "code",
   "execution_count": 2,
   "outputs": [
    {
     "data": {
      "text/plain": "   Unnamed: 0                                               name  \\\n0           0  /local_disk/arges/jduret/corpus/voxceleb1/dev/...   \n1           1  /local_disk/arges/jduret/corpus/voxceleb1/dev/...   \n2           2  /local_disk/arges/jduret/corpus/voxceleb1/dev/...   \n3           3  /local_disk/arges/jduret/corpus/voxceleb1/dev/...   \n4           4  /local_disk/arges/jduret/corpus/voxceleb1/dev/...   \n\n   F0semitoneFrom27.5Hz_sma3nz_amean  F0semitoneFrom27.5Hz_sma3nz_stddevNorm  \\\n0                          28.092182                                0.061502   \n1                          27.010643                                0.060816   \n2                          26.186111                                0.070707   \n3                          27.494238                                0.095222   \n4                          27.532742                                0.136942   \n\n   F0semitoneFrom27.5Hz_sma3nz_percentile20.0  \\\n0                                   26.984283   \n1                                   25.892637   \n2                                   24.654234   \n3                                   25.322489   \n4                                   24.791954   \n\n   F0semitoneFrom27.5Hz_sma3nz_percentile50.0  \\\n0                                   27.878792   \n1                                   26.687866   \n2                                   26.461887   \n3                                   27.320807   \n4                                   26.543228   \n\n   F0semitoneFrom27.5Hz_sma3nz_percentile80.0  \\\n0                                   28.929113   \n1                                   28.496979   \n2                                   27.661386   \n3                                   29.987375   \n4                                   30.337467   \n\n   F0semitoneFrom27.5Hz_sma3nz_pctlrange0-2  \\\n0                                  1.944830   \n1                                  2.604341   \n2                                  3.007153   \n3                                  4.664886   \n4                                  5.545513   \n\n   F0semitoneFrom27.5Hz_sma3nz_meanRisingSlope  \\\n0                                   105.241852   \n1                                   116.249120   \n2                                   138.503590   \n3                                   152.163700   \n4                                    32.876427   \n\n   F0semitoneFrom27.5Hz_sma3nz_stddevRisingSlope  ...  \\\n0                                     112.295776  ...   \n1                                     262.780430  ...   \n2                                     150.486820  ...   \n3                                     185.322500  ...   \n4                                      22.981077  ...   \n\n   slopeUV0-500_sma3nz_amean  slopeUV500-1500_sma3nz_amean  \\\n0                   0.034317                     -0.012570   \n1                   0.031585                     -0.012621   \n2                   0.021272                     -0.009637   \n3                   0.010894                      0.002566   \n4                   0.013177                     -0.002150   \n\n   spectralFluxUV_sma3nz_amean  loudnessPeaksPerSec  VoicedSegmentsPerSec  \\\n0                     0.370522             5.178792              3.473946   \n1                     0.323391             4.561403              2.237927   \n2                     0.365133             5.187836              3.429603   \n3                     0.137623             5.098494              2.917153   \n4                     0.146955             4.537815              3.565365   \n\n   MeanVoicedSegmentLengthSec  StddevVoicedSegmentLengthSec  \\\n0                    0.163571                      0.134887   \n1                    0.319474                      0.322906   \n2                    0.166316                      0.108977   \n3                    0.187200                      0.116534   \n4                    0.167619                      0.128319   \n\n   MeanUnvoicedSegmentLength  StddevUnvoicedSegmentLength  \\\n0                   0.103571                     0.084440   \n1                   0.120000                     0.082248   \n2                   0.104211                     0.068080   \n3                   0.141667                     0.136646   \n4                   0.098000                     0.052593   \n\n   equivalentSoundLevel_dBp  \n0                -21.141186  \n1                -19.915205  \n2                -21.199615  \n3                -27.372116  \n4                -27.439383  \n\n[5 rows x 90 columns]",
      "text/html": "<div>\n<style scoped>\n    .dataframe tbody tr th:only-of-type {\n        vertical-align: middle;\n    }\n\n    .dataframe tbody tr th {\n        vertical-align: top;\n    }\n\n    .dataframe thead th {\n        text-align: right;\n    }\n</style>\n<table border=\"1\" class=\"dataframe\">\n  <thead>\n    <tr style=\"text-align: right;\">\n      <th></th>\n      <th>Unnamed: 0</th>\n      <th>name</th>\n      <th>F0semitoneFrom27.5Hz_sma3nz_amean</th>\n      <th>F0semitoneFrom27.5Hz_sma3nz_stddevNorm</th>\n      <th>F0semitoneFrom27.5Hz_sma3nz_percentile20.0</th>\n      <th>F0semitoneFrom27.5Hz_sma3nz_percentile50.0</th>\n      <th>F0semitoneFrom27.5Hz_sma3nz_percentile80.0</th>\n      <th>F0semitoneFrom27.5Hz_sma3nz_pctlrange0-2</th>\n      <th>F0semitoneFrom27.5Hz_sma3nz_meanRisingSlope</th>\n      <th>F0semitoneFrom27.5Hz_sma3nz_stddevRisingSlope</th>\n      <th>...</th>\n      <th>slopeUV0-500_sma3nz_amean</th>\n      <th>slopeUV500-1500_sma3nz_amean</th>\n      <th>spectralFluxUV_sma3nz_amean</th>\n      <th>loudnessPeaksPerSec</th>\n      <th>VoicedSegmentsPerSec</th>\n      <th>MeanVoicedSegmentLengthSec</th>\n      <th>StddevVoicedSegmentLengthSec</th>\n      <th>MeanUnvoicedSegmentLength</th>\n      <th>StddevUnvoicedSegmentLength</th>\n      <th>equivalentSoundLevel_dBp</th>\n    </tr>\n  </thead>\n  <tbody>\n    <tr>\n      <th>0</th>\n      <td>0</td>\n      <td>/local_disk/arges/jduret/corpus/voxceleb1/dev/...</td>\n      <td>28.092182</td>\n      <td>0.061502</td>\n      <td>26.984283</td>\n      <td>27.878792</td>\n      <td>28.929113</td>\n      <td>1.944830</td>\n      <td>105.241852</td>\n      <td>112.295776</td>\n      <td>...</td>\n      <td>0.034317</td>\n      <td>-0.012570</td>\n      <td>0.370522</td>\n      <td>5.178792</td>\n      <td>3.473946</td>\n      <td>0.163571</td>\n      <td>0.134887</td>\n      <td>0.103571</td>\n      <td>0.084440</td>\n      <td>-21.141186</td>\n    </tr>\n    <tr>\n      <th>1</th>\n      <td>1</td>\n      <td>/local_disk/arges/jduret/corpus/voxceleb1/dev/...</td>\n      <td>27.010643</td>\n      <td>0.060816</td>\n      <td>25.892637</td>\n      <td>26.687866</td>\n      <td>28.496979</td>\n      <td>2.604341</td>\n      <td>116.249120</td>\n      <td>262.780430</td>\n      <td>...</td>\n      <td>0.031585</td>\n      <td>-0.012621</td>\n      <td>0.323391</td>\n      <td>4.561403</td>\n      <td>2.237927</td>\n      <td>0.319474</td>\n      <td>0.322906</td>\n      <td>0.120000</td>\n      <td>0.082248</td>\n      <td>-19.915205</td>\n    </tr>\n    <tr>\n      <th>2</th>\n      <td>2</td>\n      <td>/local_disk/arges/jduret/corpus/voxceleb1/dev/...</td>\n      <td>26.186111</td>\n      <td>0.070707</td>\n      <td>24.654234</td>\n      <td>26.461887</td>\n      <td>27.661386</td>\n      <td>3.007153</td>\n      <td>138.503590</td>\n      <td>150.486820</td>\n      <td>...</td>\n      <td>0.021272</td>\n      <td>-0.009637</td>\n      <td>0.365133</td>\n      <td>5.187836</td>\n      <td>3.429603</td>\n      <td>0.166316</td>\n      <td>0.108977</td>\n      <td>0.104211</td>\n      <td>0.068080</td>\n      <td>-21.199615</td>\n    </tr>\n    <tr>\n      <th>3</th>\n      <td>3</td>\n      <td>/local_disk/arges/jduret/corpus/voxceleb1/dev/...</td>\n      <td>27.494238</td>\n      <td>0.095222</td>\n      <td>25.322489</td>\n      <td>27.320807</td>\n      <td>29.987375</td>\n      <td>4.664886</td>\n      <td>152.163700</td>\n      <td>185.322500</td>\n      <td>...</td>\n      <td>0.010894</td>\n      <td>0.002566</td>\n      <td>0.137623</td>\n      <td>5.098494</td>\n      <td>2.917153</td>\n      <td>0.187200</td>\n      <td>0.116534</td>\n      <td>0.141667</td>\n      <td>0.136646</td>\n      <td>-27.372116</td>\n    </tr>\n    <tr>\n      <th>4</th>\n      <td>4</td>\n      <td>/local_disk/arges/jduret/corpus/voxceleb1/dev/...</td>\n      <td>27.532742</td>\n      <td>0.136942</td>\n      <td>24.791954</td>\n      <td>26.543228</td>\n      <td>30.337467</td>\n      <td>5.545513</td>\n      <td>32.876427</td>\n      <td>22.981077</td>\n      <td>...</td>\n      <td>0.013177</td>\n      <td>-0.002150</td>\n      <td>0.146955</td>\n      <td>4.537815</td>\n      <td>3.565365</td>\n      <td>0.167619</td>\n      <td>0.128319</td>\n      <td>0.098000</td>\n      <td>0.052593</td>\n      <td>-27.439383</td>\n    </tr>\n  </tbody>\n</table>\n<p>5 rows × 90 columns</p>\n</div>"
     },
     "execution_count": 2,
     "metadata": {},
     "output_type": "execute_result"
    }
   ],
   "source": [
    "open_smile = pd.read_csv(\"./data/vox1_opensmile.csv\")\n",
    "df = pd.read_csv(\"./data/df_binary.csv\")\n",
    "open_smile.head()"
   ],
   "metadata": {
    "collapsed": false,
    "ExecuteTime": {
     "end_time": "2023-12-06T13:45:14.053238612Z",
     "start_time": "2023-12-06T13:45:12.943329366Z"
    }
   },
   "id": "8a87956db88a399f"
  },
  {
   "cell_type": "code",
   "execution_count": 3,
   "outputs": [
    {
     "ename": "KeyboardInterrupt",
     "evalue": "",
     "output_type": "error",
     "traceback": [
      "\u001B[0;31m---------------------------------------------------------------------------\u001B[0m",
      "\u001B[0;31mKeyboardInterrupt\u001B[0m                         Traceback (most recent call last)",
      "Cell \u001B[0;32mIn[3], line 26\u001B[0m\n\u001B[1;32m     24\u001B[0m         writer_ba0\u001B[38;5;241m.\u001B[39mwriterow([\u001B[38;5;28mid\u001B[39m] \u001B[38;5;241m+\u001B[39m row\u001B[38;5;241m.\u001B[39mtolist())\n\u001B[1;32m     25\u001B[0m \u001B[38;5;28;01melif\u001B[39;00m vec[i] \u001B[38;5;241m==\u001B[39m \u001B[38;5;241m1\u001B[39m:\n\u001B[0;32m---> 26\u001B[0m     smile_vec \u001B[38;5;241m=\u001B[39m open_smile\u001B[38;5;241m.\u001B[39mloc[open_smile\u001B[38;5;241m.\u001B[39mapply(\u001B[38;5;28;01mlambda\u001B[39;00m row: is_match(\u001B[38;5;28mid\u001B[39m, row), axis\u001B[38;5;241m=\u001B[39m\u001B[38;5;241m1\u001B[39m)]\u001B[38;5;241m.\u001B[39miloc[:, \u001B[38;5;241m2\u001B[39m:]\n\u001B[1;32m     27\u001B[0m     \u001B[38;5;28;01mfor\u001B[39;00m _, row \u001B[38;5;129;01min\u001B[39;00m smile_vec\u001B[38;5;241m.\u001B[39miterrows():\n\u001B[1;32m     28\u001B[0m         writer_ba1\u001B[38;5;241m.\u001B[39mwriterow([\u001B[38;5;28mid\u001B[39m] \u001B[38;5;241m+\u001B[39m row\u001B[38;5;241m.\u001B[39mtolist())\n",
      "File \u001B[0;32m~/anaconda3/envs/BA-LR/lib/python3.11/site-packages/pandas/core/frame.py:10037\u001B[0m, in \u001B[0;36mDataFrame.apply\u001B[0;34m(self, func, axis, raw, result_type, args, by_row, **kwargs)\u001B[0m\n\u001B[1;32m  10025\u001B[0m \u001B[38;5;28;01mfrom\u001B[39;00m \u001B[38;5;21;01mpandas\u001B[39;00m\u001B[38;5;21;01m.\u001B[39;00m\u001B[38;5;21;01mcore\u001B[39;00m\u001B[38;5;21;01m.\u001B[39;00m\u001B[38;5;21;01mapply\u001B[39;00m \u001B[38;5;28;01mimport\u001B[39;00m frame_apply\n\u001B[1;32m  10027\u001B[0m op \u001B[38;5;241m=\u001B[39m frame_apply(\n\u001B[1;32m  10028\u001B[0m     \u001B[38;5;28mself\u001B[39m,\n\u001B[1;32m  10029\u001B[0m     func\u001B[38;5;241m=\u001B[39mfunc,\n\u001B[0;32m   (...)\u001B[0m\n\u001B[1;32m  10035\u001B[0m     kwargs\u001B[38;5;241m=\u001B[39mkwargs,\n\u001B[1;32m  10036\u001B[0m )\n\u001B[0;32m> 10037\u001B[0m \u001B[38;5;28;01mreturn\u001B[39;00m op\u001B[38;5;241m.\u001B[39mapply()\u001B[38;5;241m.\u001B[39m__finalize__(\u001B[38;5;28mself\u001B[39m, method\u001B[38;5;241m=\u001B[39m\u001B[38;5;124m\"\u001B[39m\u001B[38;5;124mapply\u001B[39m\u001B[38;5;124m\"\u001B[39m)\n",
      "File \u001B[0;32m~/anaconda3/envs/BA-LR/lib/python3.11/site-packages/pandas/core/apply.py:837\u001B[0m, in \u001B[0;36mFrameApply.apply\u001B[0;34m(self)\u001B[0m\n\u001B[1;32m    834\u001B[0m \u001B[38;5;28;01melif\u001B[39;00m \u001B[38;5;28mself\u001B[39m\u001B[38;5;241m.\u001B[39mraw:\n\u001B[1;32m    835\u001B[0m     \u001B[38;5;28;01mreturn\u001B[39;00m \u001B[38;5;28mself\u001B[39m\u001B[38;5;241m.\u001B[39mapply_raw()\n\u001B[0;32m--> 837\u001B[0m \u001B[38;5;28;01mreturn\u001B[39;00m \u001B[38;5;28mself\u001B[39m\u001B[38;5;241m.\u001B[39mapply_standard()\n",
      "File \u001B[0;32m~/anaconda3/envs/BA-LR/lib/python3.11/site-packages/pandas/core/apply.py:963\u001B[0m, in \u001B[0;36mFrameApply.apply_standard\u001B[0;34m(self)\u001B[0m\n\u001B[1;32m    962\u001B[0m \u001B[38;5;28;01mdef\u001B[39;00m \u001B[38;5;21mapply_standard\u001B[39m(\u001B[38;5;28mself\u001B[39m):\n\u001B[0;32m--> 963\u001B[0m     results, res_index \u001B[38;5;241m=\u001B[39m \u001B[38;5;28mself\u001B[39m\u001B[38;5;241m.\u001B[39mapply_series_generator()\n\u001B[1;32m    965\u001B[0m     \u001B[38;5;66;03m# wrap results\u001B[39;00m\n\u001B[1;32m    966\u001B[0m     \u001B[38;5;28;01mreturn\u001B[39;00m \u001B[38;5;28mself\u001B[39m\u001B[38;5;241m.\u001B[39mwrap_results(results, res_index)\n",
      "File \u001B[0;32m~/anaconda3/envs/BA-LR/lib/python3.11/site-packages/pandas/core/apply.py:977\u001B[0m, in \u001B[0;36mFrameApply.apply_series_generator\u001B[0;34m(self)\u001B[0m\n\u001B[1;32m    974\u001B[0m results \u001B[38;5;241m=\u001B[39m {}\n\u001B[1;32m    976\u001B[0m \u001B[38;5;28;01mwith\u001B[39;00m option_context(\u001B[38;5;124m\"\u001B[39m\u001B[38;5;124mmode.chained_assignment\u001B[39m\u001B[38;5;124m\"\u001B[39m, \u001B[38;5;28;01mNone\u001B[39;00m):\n\u001B[0;32m--> 977\u001B[0m     \u001B[38;5;28;01mfor\u001B[39;00m i, v \u001B[38;5;129;01min\u001B[39;00m \u001B[38;5;28menumerate\u001B[39m(series_gen):\n\u001B[1;32m    978\u001B[0m         \u001B[38;5;66;03m# ignore SettingWithCopy here in case the user mutates\u001B[39;00m\n\u001B[1;32m    979\u001B[0m         results[i] \u001B[38;5;241m=\u001B[39m \u001B[38;5;28mself\u001B[39m\u001B[38;5;241m.\u001B[39mfunc(v, \u001B[38;5;241m*\u001B[39m\u001B[38;5;28mself\u001B[39m\u001B[38;5;241m.\u001B[39margs, \u001B[38;5;241m*\u001B[39m\u001B[38;5;241m*\u001B[39m\u001B[38;5;28mself\u001B[39m\u001B[38;5;241m.\u001B[39mkwargs)\n\u001B[1;32m    980\u001B[0m         \u001B[38;5;28;01mif\u001B[39;00m \u001B[38;5;28misinstance\u001B[39m(results[i], ABCSeries):\n\u001B[1;32m    981\u001B[0m             \u001B[38;5;66;03m# If we have a view on v, we need to make a copy because\u001B[39;00m\n\u001B[1;32m    982\u001B[0m             \u001B[38;5;66;03m#  series_generator will swap out the underlying data\u001B[39;00m\n",
      "File \u001B[0;32m~/anaconda3/envs/BA-LR/lib/python3.11/site-packages/pandas/core/apply.py:1085\u001B[0m, in \u001B[0;36mFrameColumnApply.series_generator\u001B[0;34m(self)\u001B[0m\n\u001B[1;32m   1083\u001B[0m \u001B[38;5;129m@property\u001B[39m\n\u001B[1;32m   1084\u001B[0m \u001B[38;5;28;01mdef\u001B[39;00m \u001B[38;5;21mseries_generator\u001B[39m(\u001B[38;5;28mself\u001B[39m):\n\u001B[0;32m-> 1085\u001B[0m     values \u001B[38;5;241m=\u001B[39m \u001B[38;5;28mself\u001B[39m\u001B[38;5;241m.\u001B[39mvalues\n\u001B[1;32m   1086\u001B[0m     values \u001B[38;5;241m=\u001B[39m ensure_wrapped_if_datetimelike(values)\n\u001B[1;32m   1087\u001B[0m     \u001B[38;5;28;01massert\u001B[39;00m \u001B[38;5;28mlen\u001B[39m(values) \u001B[38;5;241m>\u001B[39m \u001B[38;5;241m0\u001B[39m\n",
      "File \u001B[0;32mproperties.pyx:36\u001B[0m, in \u001B[0;36mpandas._libs.properties.CachedProperty.__get__\u001B[0;34m()\u001B[0m\n",
      "File \u001B[0;32m~/anaconda3/envs/BA-LR/lib/python3.11/site-packages/pandas/core/apply.py:802\u001B[0m, in \u001B[0;36mFrameApply.values\u001B[0;34m(self)\u001B[0m\n\u001B[1;32m    800\u001B[0m \u001B[38;5;129m@cache_readonly\u001B[39m\n\u001B[1;32m    801\u001B[0m \u001B[38;5;28;01mdef\u001B[39;00m \u001B[38;5;21mvalues\u001B[39m(\u001B[38;5;28mself\u001B[39m):\n\u001B[0;32m--> 802\u001B[0m     \u001B[38;5;28;01mreturn\u001B[39;00m \u001B[38;5;28mself\u001B[39m\u001B[38;5;241m.\u001B[39mobj\u001B[38;5;241m.\u001B[39mvalues\n",
      "File \u001B[0;32m~/anaconda3/envs/BA-LR/lib/python3.11/site-packages/pandas/core/frame.py:12284\u001B[0m, in \u001B[0;36mDataFrame.values\u001B[0;34m(self)\u001B[0m\n\u001B[1;32m  12210\u001B[0m \u001B[38;5;129m@property\u001B[39m\n\u001B[1;32m  12211\u001B[0m \u001B[38;5;28;01mdef\u001B[39;00m \u001B[38;5;21mvalues\u001B[39m(\u001B[38;5;28mself\u001B[39m) \u001B[38;5;241m-\u001B[39m\u001B[38;5;241m>\u001B[39m np\u001B[38;5;241m.\u001B[39mndarray:\n\u001B[1;32m  12212\u001B[0m \u001B[38;5;250m    \u001B[39m\u001B[38;5;124;03m\"\"\"\u001B[39;00m\n\u001B[1;32m  12213\u001B[0m \u001B[38;5;124;03m    Return a Numpy representation of the DataFrame.\u001B[39;00m\n\u001B[1;32m  12214\u001B[0m \n\u001B[0;32m   (...)\u001B[0m\n\u001B[1;32m  12282\u001B[0m \u001B[38;5;124;03m           ['monkey', nan, None]], dtype=object)\u001B[39;00m\n\u001B[1;32m  12283\u001B[0m \u001B[38;5;124;03m    \"\"\"\u001B[39;00m\n\u001B[0;32m> 12284\u001B[0m     \u001B[38;5;28;01mreturn\u001B[39;00m \u001B[38;5;28mself\u001B[39m\u001B[38;5;241m.\u001B[39m_mgr\u001B[38;5;241m.\u001B[39mas_array()\n",
      "File \u001B[0;32m~/anaconda3/envs/BA-LR/lib/python3.11/site-packages/pandas/core/internals/managers.py:1656\u001B[0m, in \u001B[0;36mBlockManager.as_array\u001B[0;34m(self, dtype, copy, na_value)\u001B[0m\n\u001B[1;32m   1654\u001B[0m         arr\u001B[38;5;241m.\u001B[39mflags\u001B[38;5;241m.\u001B[39mwriteable \u001B[38;5;241m=\u001B[39m \u001B[38;5;28;01mFalse\u001B[39;00m\n\u001B[1;32m   1655\u001B[0m \u001B[38;5;28;01melse\u001B[39;00m:\n\u001B[0;32m-> 1656\u001B[0m     arr \u001B[38;5;241m=\u001B[39m \u001B[38;5;28mself\u001B[39m\u001B[38;5;241m.\u001B[39m_interleave(dtype\u001B[38;5;241m=\u001B[39mdtype, na_value\u001B[38;5;241m=\u001B[39mna_value)\n\u001B[1;32m   1657\u001B[0m     \u001B[38;5;66;03m# The underlying data was copied within _interleave, so no need\u001B[39;00m\n\u001B[1;32m   1658\u001B[0m     \u001B[38;5;66;03m# to further copy if copy=True or setting na_value\u001B[39;00m\n\u001B[1;32m   1660\u001B[0m \u001B[38;5;28;01mif\u001B[39;00m na_value \u001B[38;5;129;01mis\u001B[39;00m lib\u001B[38;5;241m.\u001B[39mno_default:\n",
      "File \u001B[0;32m~/anaconda3/envs/BA-LR/lib/python3.11/site-packages/pandas/core/internals/managers.py:1697\u001B[0m, in \u001B[0;36mBlockManager._interleave\u001B[0;34m(self, dtype, na_value)\u001B[0m\n\u001B[1;32m   1695\u001B[0m \u001B[38;5;28;01mfor\u001B[39;00m blk \u001B[38;5;129;01min\u001B[39;00m \u001B[38;5;28mself\u001B[39m\u001B[38;5;241m.\u001B[39mblocks:\n\u001B[1;32m   1696\u001B[0m     rl \u001B[38;5;241m=\u001B[39m blk\u001B[38;5;241m.\u001B[39mmgr_locs\n\u001B[0;32m-> 1697\u001B[0m     arr \u001B[38;5;241m=\u001B[39m blk\u001B[38;5;241m.\u001B[39mget_values(dtype)\n\u001B[1;32m   1698\u001B[0m     result[rl\u001B[38;5;241m.\u001B[39mindexer] \u001B[38;5;241m=\u001B[39m arr\n\u001B[1;32m   1699\u001B[0m     itemmask[rl\u001B[38;5;241m.\u001B[39mindexer] \u001B[38;5;241m=\u001B[39m \u001B[38;5;241m1\u001B[39m\n",
      "File \u001B[0;32m~/anaconda3/envs/BA-LR/lib/python3.11/site-packages/pandas/core/internals/blocks.py:2247\u001B[0m, in \u001B[0;36mNumpyBlock.get_values\u001B[0;34m(self, dtype)\u001B[0m\n\u001B[1;32m   2245\u001B[0m \u001B[38;5;28;01mdef\u001B[39;00m \u001B[38;5;21mget_values\u001B[39m(\u001B[38;5;28mself\u001B[39m, dtype: DtypeObj \u001B[38;5;241m|\u001B[39m \u001B[38;5;28;01mNone\u001B[39;00m \u001B[38;5;241m=\u001B[39m \u001B[38;5;28;01mNone\u001B[39;00m) \u001B[38;5;241m-\u001B[39m\u001B[38;5;241m>\u001B[39m np\u001B[38;5;241m.\u001B[39mndarray:\n\u001B[1;32m   2246\u001B[0m     \u001B[38;5;28;01mif\u001B[39;00m dtype \u001B[38;5;241m==\u001B[39m _dtype_obj:\n\u001B[0;32m-> 2247\u001B[0m         \u001B[38;5;28;01mreturn\u001B[39;00m \u001B[38;5;28mself\u001B[39m\u001B[38;5;241m.\u001B[39mvalues\u001B[38;5;241m.\u001B[39mastype(_dtype_obj)\n\u001B[1;32m   2248\u001B[0m     \u001B[38;5;28;01mreturn\u001B[39;00m \u001B[38;5;28mself\u001B[39m\u001B[38;5;241m.\u001B[39mvalues\n",
      "\u001B[0;31mKeyboardInterrupt\u001B[0m: "
     ]
    }
   ],
   "source": [
    "import csv\n",
    "id_vox, df_binary = readVectors_test(\"./vox1-transformed.txt\")\n",
    "count = 0\n",
    "def is_match(id, row):\n",
    "    if id == row[\"name\"].replace(\"\", \"\").replace(\n",
    "                                \"/local_disk/arges/jduret/corpus/voxceleb1/test/wav/\", \"\").replace(\n",
    "                                \"/local_disk/arges/jduret/corpus/voxceleb1/dev/wav/\", \"\").replace(\".wav\", \"\").replace(\n",
    "                                \"/\", \"-\"):\n",
    "        return True\n",
    "    else:\n",
    "        return False\n",
    "for i in range(135,df_binary.shape[1]):\n",
    "    with open(f\"./data/BA/BA{i}_0.csv\", mode='w+', newline='') as ba0:\n",
    "        with open(f\"./data/BA/BA{i}_1.csv\", mode='w+', newline='') as ba1:\n",
    "            columns = ['name'] + open_smile.columns[2:].tolist()\n",
    "            writer_ba0 = csv.writer(ba0)\n",
    "            writer_ba1 = csv.writer(ba1)\n",
    "            writer_ba0.writerow(columns)\n",
    "            writer_ba1.writerow(columns)\n",
    "            for id, vec in zip(id_vox, df_binary):\n",
    "                if vec[i] == 0:\n",
    "                    smile_vec = open_smile.loc[open_smile.apply(lambda row: is_match(id, row), axis=1)].iloc[:, 2:]\n",
    "                    for _, row in smile_vec.iterrows():\n",
    "                        writer_ba0.writerow([id] + row.tolist())\n",
    "                elif vec[i] == 1:\n",
    "                    smile_vec = open_smile.loc[open_smile.apply(lambda row: is_match(id, row), axis=1)].iloc[:, 2:]\n",
    "                    for _, row in smile_vec.iterrows():\n",
    "                        writer_ba1.writerow([id] + row.tolist())"
   ],
   "metadata": {
    "collapsed": false,
    "ExecuteTime": {
     "end_time": "2023-12-06T15:56:46.030702327Z",
     "start_time": "2023-12-06T13:45:14.052328011Z"
    }
   },
   "id": "2a38abf243855063"
  },
  {
   "cell_type": "code",
   "execution_count": 6,
   "outputs": [
    {
     "name": "stdout",
     "output_type": "stream",
     "text": [
      "205 / 206\n",
      "206 / 206\n"
     ]
    },
    {
     "ename": "IndexError",
     "evalue": "index 206 is out of bounds for axis 0 with size 206",
     "output_type": "error",
     "traceback": [
      "\u001B[0;31m---------------------------------------------------------------------------\u001B[0m",
      "\u001B[0;31mIndexError\u001B[0m                                Traceback (most recent call last)",
      "Cell \u001B[0;32mIn[6], line 14\u001B[0m\n\u001B[1;32m     12\u001B[0m writer_ba1\u001B[38;5;241m.\u001B[39mwriterow(columns)\n\u001B[1;32m     13\u001B[0m \u001B[38;5;28;01mfor\u001B[39;00m \u001B[38;5;28mid\u001B[39m, vec \u001B[38;5;129;01min\u001B[39;00m \u001B[38;5;28mzip\u001B[39m(id_vox, df_binary):\n\u001B[0;32m---> 14\u001B[0m     \u001B[38;5;28;01mif\u001B[39;00m vec[i] \u001B[38;5;241m==\u001B[39m \u001B[38;5;241m0\u001B[39m:\n\u001B[1;32m     15\u001B[0m         smile_vec \u001B[38;5;241m=\u001B[39m open_smile\u001B[38;5;241m.\u001B[39mloc[open_smile[\u001B[38;5;124m\"\u001B[39m\u001B[38;5;124mname\u001B[39m\u001B[38;5;124m\"\u001B[39m]\u001B[38;5;241m.\u001B[39mstr\u001B[38;5;241m.\u001B[39mcontains(\u001B[38;5;28mstr\u001B[39m(\u001B[38;5;28mid\u001B[39m[: \u001B[38;5;241m7\u001B[39m] \u001B[38;5;241m+\u001B[39m \u001B[38;5;124m'\u001B[39m\u001B[38;5;124m/\u001B[39m\u001B[38;5;124m'\u001B[39m \u001B[38;5;241m+\u001B[39m \u001B[38;5;28mid\u001B[39m[\u001B[38;5;241m8\u001B[39m:\u001B[38;5;241m19\u001B[39m] \u001B[38;5;241m+\u001B[39m \u001B[38;5;124m'\u001B[39m\u001B[38;5;124m/\u001B[39m\u001B[38;5;124m'\u001B[39m \u001B[38;5;241m+\u001B[39m \u001B[38;5;28mid\u001B[39m[\u001B[38;5;241m19\u001B[39m \u001B[38;5;241m+\u001B[39m \u001B[38;5;241m1\u001B[39m:] ))]\u001B[38;5;241m.\u001B[39miloc[:, \u001B[38;5;241m2\u001B[39m:]\n\u001B[1;32m     16\u001B[0m         \u001B[38;5;28;01mfor\u001B[39;00m _, row \u001B[38;5;129;01min\u001B[39;00m smile_vec\u001B[38;5;241m.\u001B[39miterrows():\n",
      "\u001B[0;31mIndexError\u001B[0m: index 206 is out of bounds for axis 0 with size 206"
     ]
    }
   ],
   "source": [
    "import csv\n",
    "id_vox, df_binary = readVectors_test(\"./vox1-transformed.txt\")\n",
    "count = 0\n",
    "for i in range(205,df_binary.shape[1]+1):\n",
    "    print(f\"{i} / {df_binary.shape[1]}\" )\n",
    "    with open(f\"./data/BA/BA{i}_0.csv\", mode='w+', newline='') as ba0:\n",
    "        with open(f\"./data/BA/BA{i}_1.csv\", mode='w+', newline='') as ba1:\n",
    "            columns = ['name'] + open_smile.columns[2:].tolist()\n",
    "            writer_ba0 = csv.writer(ba0)\n",
    "            writer_ba1 = csv.writer(ba1)\n",
    "            writer_ba0.writerow(columns)\n",
    "            writer_ba1.writerow(columns)\n",
    "            for id, vec in zip(id_vox, df_binary):\n",
    "                if vec[i] == 0:\n",
    "                    smile_vec = open_smile.loc[open_smile[\"name\"].str.contains(str(id[: 7] + '/' + id[8:19] + '/' + id[19 + 1:] ))].iloc[:, 2:]\n",
    "                    for _, row in smile_vec.iterrows():\n",
    "                        writer_ba0.writerow([id] + row.tolist())\n",
    "                elif vec[i] == 1:\n",
    "                    smile_vec = open_smile.loc[open_smile[\"name\"].str.contains(str(id[: 7] + '/' + id[8:19] + '/' + id[19 + 1:] ))].iloc[:, 2:]\n",
    "                    for _, row in smile_vec.iterrows():\n",
    "                        writer_ba1.writerow([id] + row.tolist())\n",
    "                        \n"
   ],
   "metadata": {
    "collapsed": false,
    "ExecuteTime": {
     "end_time": "2023-12-06T16:10:08.395429802Z",
     "start_time": "2023-12-06T16:09:56.679042761Z"
    }
   },
   "id": "fe6981955565b398"
  },
  {
   "cell_type": "code",
   "execution_count": null,
   "outputs": [],
   "source": [],
   "metadata": {
    "collapsed": false
   },
   "id": "3d07433d72bc3d3e"
  }
 ],
 "metadata": {
  "kernelspec": {
   "display_name": "Python 3",
   "language": "python",
   "name": "python3"
  },
  "language_info": {
   "codemirror_mode": {
    "name": "ipython",
    "version": 2
   },
   "file_extension": ".py",
   "mimetype": "text/x-python",
   "name": "python",
   "nbconvert_exporter": "python",
   "pygments_lexer": "ipython2",
   "version": "2.7.6"
  }
 },
 "nbformat": 4,
 "nbformat_minor": 5
}
