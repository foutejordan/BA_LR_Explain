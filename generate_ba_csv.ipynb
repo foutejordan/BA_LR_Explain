{
 "cells": [
  {
   "cell_type": "code",
   "execution_count": 1,
   "id": "initial_id",
   "metadata": {
    "collapsed": true,
    "ExecuteTime": {
     "end_time": "2023-12-05T13:56:17.982470938Z",
     "start_time": "2023-12-05T13:56:17.841522620Z"
    }
   },
   "outputs": [],
   "source": [
    "import pandas as pd\n",
    "import numpy as np\n",
    "import re\n",
    "\n",
    "def readVectors_test(filePath):\n",
    "    vectors = []\n",
    "    utt = []\n",
    "    with open(filePath, \"r\") as f:\n",
    "        lignes = f.readlines()\n",
    "        line_idx = 0\n",
    "        last_printed_percent = -1\n",
    "        number_of_lines = len(lignes)\n",
    "\n",
    "        for ligne in lignes:\n",
    "            if ligne:\n",
    "                match = re.match(r'^(\\S+)\\s+\\[([\\d\\s.]+)]$', ligne)\n",
    "                if match:\n",
    "                    identifiant, elements_str = match.group(1), match.group(2)\n",
    "                    elements = np.array([float(e) for e in elements_str.split()])\n",
    "                    utt.append(identifiant)\n",
    "                    vectors.append(elements)\n",
    "\n",
    "                    # Afficher la progression\n",
    "                    line_idx += 1\n",
    "                    percent = int((line_idx / number_of_lines) * 100)\n",
    "                    if percent % 10 == 0 and percent != last_printed_percent:\n",
    "                        last_printed_percent = percent\n",
    "                else:\n",
    "                    print(f\"Erreur à la ligne {line_idx} : {ligne}\")\n",
    "\n",
    "    return utt, np.array(vectors)"
   ]
  },
  {
   "cell_type": "code",
   "execution_count": 85,
   "outputs": [
    {
     "data": {
      "text/plain": "   Unnamed: 0                                               name  \\\n0           0  /local_disk/arges/jduret/corpus/voxceleb1/dev/...   \n1           1  /local_disk/arges/jduret/corpus/voxceleb1/dev/...   \n2           2  /local_disk/arges/jduret/corpus/voxceleb1/dev/...   \n3           3  /local_disk/arges/jduret/corpus/voxceleb1/dev/...   \n4           4  /local_disk/arges/jduret/corpus/voxceleb1/dev/...   \n\n   F0semitoneFrom27.5Hz_sma3nz_amean  F0semitoneFrom27.5Hz_sma3nz_stddevNorm  \\\n0                          28.092182                                0.061502   \n1                          27.010643                                0.060816   \n2                          26.186111                                0.070707   \n3                          27.494238                                0.095222   \n4                          27.532742                                0.136942   \n\n   F0semitoneFrom27.5Hz_sma3nz_percentile20.0  \\\n0                                   26.984283   \n1                                   25.892637   \n2                                   24.654234   \n3                                   25.322489   \n4                                   24.791954   \n\n   F0semitoneFrom27.5Hz_sma3nz_percentile50.0  \\\n0                                   27.878792   \n1                                   26.687866   \n2                                   26.461887   \n3                                   27.320807   \n4                                   26.543228   \n\n   F0semitoneFrom27.5Hz_sma3nz_percentile80.0  \\\n0                                   28.929113   \n1                                   28.496979   \n2                                   27.661386   \n3                                   29.987375   \n4                                   30.337467   \n\n   F0semitoneFrom27.5Hz_sma3nz_pctlrange0-2  \\\n0                                  1.944830   \n1                                  2.604341   \n2                                  3.007153   \n3                                  4.664886   \n4                                  5.545513   \n\n   F0semitoneFrom27.5Hz_sma3nz_meanRisingSlope  \\\n0                                   105.241852   \n1                                   116.249120   \n2                                   138.503590   \n3                                   152.163700   \n4                                    32.876427   \n\n   F0semitoneFrom27.5Hz_sma3nz_stddevRisingSlope  ...  \\\n0                                     112.295776  ...   \n1                                     262.780430  ...   \n2                                     150.486820  ...   \n3                                     185.322500  ...   \n4                                      22.981077  ...   \n\n   slopeUV0-500_sma3nz_amean  slopeUV500-1500_sma3nz_amean  \\\n0                   0.034317                     -0.012570   \n1                   0.031585                     -0.012621   \n2                   0.021272                     -0.009637   \n3                   0.010894                      0.002566   \n4                   0.013177                     -0.002150   \n\n   spectralFluxUV_sma3nz_amean  loudnessPeaksPerSec  VoicedSegmentsPerSec  \\\n0                     0.370522             5.178792              3.473946   \n1                     0.323391             4.561403              2.237927   \n2                     0.365133             5.187836              3.429603   \n3                     0.137623             5.098494              2.917153   \n4                     0.146955             4.537815              3.565365   \n\n   MeanVoicedSegmentLengthSec  StddevVoicedSegmentLengthSec  \\\n0                    0.163571                      0.134887   \n1                    0.319474                      0.322906   \n2                    0.166316                      0.108977   \n3                    0.187200                      0.116534   \n4                    0.167619                      0.128319   \n\n   MeanUnvoicedSegmentLength  StddevUnvoicedSegmentLength  \\\n0                   0.103571                     0.084440   \n1                   0.120000                     0.082248   \n2                   0.104211                     0.068080   \n3                   0.141667                     0.136646   \n4                   0.098000                     0.052593   \n\n   equivalentSoundLevel_dBp  \n0                -21.141186  \n1                -19.915205  \n2                -21.199615  \n3                -27.372116  \n4                -27.439383  \n\n[5 rows x 90 columns]",
      "text/html": "<div>\n<style scoped>\n    .dataframe tbody tr th:only-of-type {\n        vertical-align: middle;\n    }\n\n    .dataframe tbody tr th {\n        vertical-align: top;\n    }\n\n    .dataframe thead th {\n        text-align: right;\n    }\n</style>\n<table border=\"1\" class=\"dataframe\">\n  <thead>\n    <tr style=\"text-align: right;\">\n      <th></th>\n      <th>Unnamed: 0</th>\n      <th>name</th>\n      <th>F0semitoneFrom27.5Hz_sma3nz_amean</th>\n      <th>F0semitoneFrom27.5Hz_sma3nz_stddevNorm</th>\n      <th>F0semitoneFrom27.5Hz_sma3nz_percentile20.0</th>\n      <th>F0semitoneFrom27.5Hz_sma3nz_percentile50.0</th>\n      <th>F0semitoneFrom27.5Hz_sma3nz_percentile80.0</th>\n      <th>F0semitoneFrom27.5Hz_sma3nz_pctlrange0-2</th>\n      <th>F0semitoneFrom27.5Hz_sma3nz_meanRisingSlope</th>\n      <th>F0semitoneFrom27.5Hz_sma3nz_stddevRisingSlope</th>\n      <th>...</th>\n      <th>slopeUV0-500_sma3nz_amean</th>\n      <th>slopeUV500-1500_sma3nz_amean</th>\n      <th>spectralFluxUV_sma3nz_amean</th>\n      <th>loudnessPeaksPerSec</th>\n      <th>VoicedSegmentsPerSec</th>\n      <th>MeanVoicedSegmentLengthSec</th>\n      <th>StddevVoicedSegmentLengthSec</th>\n      <th>MeanUnvoicedSegmentLength</th>\n      <th>StddevUnvoicedSegmentLength</th>\n      <th>equivalentSoundLevel_dBp</th>\n    </tr>\n  </thead>\n  <tbody>\n    <tr>\n      <th>0</th>\n      <td>0</td>\n      <td>/local_disk/arges/jduret/corpus/voxceleb1/dev/...</td>\n      <td>28.092182</td>\n      <td>0.061502</td>\n      <td>26.984283</td>\n      <td>27.878792</td>\n      <td>28.929113</td>\n      <td>1.944830</td>\n      <td>105.241852</td>\n      <td>112.295776</td>\n      <td>...</td>\n      <td>0.034317</td>\n      <td>-0.012570</td>\n      <td>0.370522</td>\n      <td>5.178792</td>\n      <td>3.473946</td>\n      <td>0.163571</td>\n      <td>0.134887</td>\n      <td>0.103571</td>\n      <td>0.084440</td>\n      <td>-21.141186</td>\n    </tr>\n    <tr>\n      <th>1</th>\n      <td>1</td>\n      <td>/local_disk/arges/jduret/corpus/voxceleb1/dev/...</td>\n      <td>27.010643</td>\n      <td>0.060816</td>\n      <td>25.892637</td>\n      <td>26.687866</td>\n      <td>28.496979</td>\n      <td>2.604341</td>\n      <td>116.249120</td>\n      <td>262.780430</td>\n      <td>...</td>\n      <td>0.031585</td>\n      <td>-0.012621</td>\n      <td>0.323391</td>\n      <td>4.561403</td>\n      <td>2.237927</td>\n      <td>0.319474</td>\n      <td>0.322906</td>\n      <td>0.120000</td>\n      <td>0.082248</td>\n      <td>-19.915205</td>\n    </tr>\n    <tr>\n      <th>2</th>\n      <td>2</td>\n      <td>/local_disk/arges/jduret/corpus/voxceleb1/dev/...</td>\n      <td>26.186111</td>\n      <td>0.070707</td>\n      <td>24.654234</td>\n      <td>26.461887</td>\n      <td>27.661386</td>\n      <td>3.007153</td>\n      <td>138.503590</td>\n      <td>150.486820</td>\n      <td>...</td>\n      <td>0.021272</td>\n      <td>-0.009637</td>\n      <td>0.365133</td>\n      <td>5.187836</td>\n      <td>3.429603</td>\n      <td>0.166316</td>\n      <td>0.108977</td>\n      <td>0.104211</td>\n      <td>0.068080</td>\n      <td>-21.199615</td>\n    </tr>\n    <tr>\n      <th>3</th>\n      <td>3</td>\n      <td>/local_disk/arges/jduret/corpus/voxceleb1/dev/...</td>\n      <td>27.494238</td>\n      <td>0.095222</td>\n      <td>25.322489</td>\n      <td>27.320807</td>\n      <td>29.987375</td>\n      <td>4.664886</td>\n      <td>152.163700</td>\n      <td>185.322500</td>\n      <td>...</td>\n      <td>0.010894</td>\n      <td>0.002566</td>\n      <td>0.137623</td>\n      <td>5.098494</td>\n      <td>2.917153</td>\n      <td>0.187200</td>\n      <td>0.116534</td>\n      <td>0.141667</td>\n      <td>0.136646</td>\n      <td>-27.372116</td>\n    </tr>\n    <tr>\n      <th>4</th>\n      <td>4</td>\n      <td>/local_disk/arges/jduret/corpus/voxceleb1/dev/...</td>\n      <td>27.532742</td>\n      <td>0.136942</td>\n      <td>24.791954</td>\n      <td>26.543228</td>\n      <td>30.337467</td>\n      <td>5.545513</td>\n      <td>32.876427</td>\n      <td>22.981077</td>\n      <td>...</td>\n      <td>0.013177</td>\n      <td>-0.002150</td>\n      <td>0.146955</td>\n      <td>4.537815</td>\n      <td>3.565365</td>\n      <td>0.167619</td>\n      <td>0.128319</td>\n      <td>0.098000</td>\n      <td>0.052593</td>\n      <td>-27.439383</td>\n    </tr>\n  </tbody>\n</table>\n<p>5 rows × 90 columns</p>\n</div>"
     },
     "execution_count": 85,
     "metadata": {},
     "output_type": "execute_result"
    }
   ],
   "source": [
    "open_smile = pd.read_csv(\"./data/vox1_opensmile.csv\")\n",
    "df = pd.read_csv(\"./data/df_binary.csv\")\n",
    "open_smile.head()"
   ],
   "metadata": {
    "collapsed": false,
    "ExecuteTime": {
     "end_time": "2023-12-05T18:15:40.458023072Z",
     "start_time": "2023-12-05T18:15:39.381870154Z"
    }
   },
   "id": "8a87956db88a399f"
  },
  {
   "cell_type": "code",
   "execution_count": null,
   "outputs": [],
   "source": [
    "import csv\n",
    "id_vox, df_binary = readVectors_test(\"./vox1-transformed.txt\")\n",
    "count = 0\n",
    "def is_match(id, row):\n",
    "    if id == row[\"name\"].replace(\"\", \"\").replace(\n",
    "                                \"/local_disk/arges/jduret/corpus/voxceleb1/test/wav/\", \"\").replace(\n",
    "                                \"/local_disk/arges/jduret/corpus/voxceleb1/dev/wav/\", \"\").replace(\".wav\", \"\").replace(\n",
    "                                \"/\", \"-\"):\n",
    "        return True\n",
    "    else:\n",
    "        return False\n",
    "for i in range(2,df_binary.shape[1]):\n",
    "    with open(f\"./data/BA/BA{i}_0.csv\", mode='w+', newline='') as ba0:\n",
    "        with open(f\"./data/BA/BA{i}_1.csv\", mode='w+', newline='') as ba1:\n",
    "            columns = ['name'] + open_smile.columns[2:].tolist()\n",
    "            writer_ba0 = csv.writer(ba0)\n",
    "            writer_ba1 = csv.writer(ba1)\n",
    "            writer_ba0.writerow(columns)\n",
    "            writer_ba1.writerow(columns)\n",
    "            for id, vec in zip(id_vox, df_binary):\n",
    "                if vec[i] == 0:\n",
    "                    mask = open_smile[\"name\"].str.replace(\"/local_disk/arges/jduret/corpus/voxceleb1/test/wav/\", \"\").replace(\"/local_disk/arges/jduret/corpus/voxceleb1/dev/wav/\", \"\").replace(\".wav\", \"\").replace(\"/\", \"-\").str.contains(id)\n",
    "                    smile_vec = open_smile.loc[mask].iloc[:, 2:]\n",
    "                    for _, row in smile_vec.iterrows():\n",
    "                        writer_ba0.writerow([id] + row.tolist())\n",
    "                elif vec[i] == 1:\n",
    "                    mask = open_smile[\"name\"].str.replace(\"/local_disk/arges/jduret/corpus/voxceleb1/test/wav/\", \"\").replace(\"/local_disk/arges/jduret/corpus/voxceleb1/dev/wav/\", \"\").replace(\".wav\", \"\").replace(\"/\", \"-\").str.contains(id)\n",
    "                    smile_vec = open_smile.loc[mask].iloc[:, 2:]\n",
    "                    for _, row in smile_vec.iterrows():\n",
    "                        writer_ba1.writerow([id] + row.tolist())"
   ],
   "metadata": {
    "collapsed": false,
    "is_executing": true
   },
   "id": "2a38abf243855063"
  },
  {
   "cell_type": "code",
   "execution_count": 1,
   "outputs": [
    {
     "ename": "NameError",
     "evalue": "name 'df_binary' is not defined",
     "output_type": "error",
     "traceback": [
      "\u001B[0;31m---------------------------------------------------------------------------\u001B[0m",
      "\u001B[0;31mNameError\u001B[0m                                 Traceback (most recent call last)",
      "Cell \u001B[0;32mIn[1], line 1\u001B[0m\n\u001B[0;32m----> 1\u001B[0m BA \u001B[38;5;241m=\u001B[39m [\u001B[38;5;124m'\u001B[39m\u001B[38;5;124mBA\u001B[39m\u001B[38;5;124m'\u001B[39m \u001B[38;5;241m+\u001B[39m \u001B[38;5;28mstr\u001B[39m(i) \u001B[38;5;28;01mfor\u001B[39;00m i \u001B[38;5;129;01min\u001B[39;00m \u001B[38;5;28mrange\u001B[39m(df_binary\u001B[38;5;241m.\u001B[39mshape[\u001B[38;5;241m1\u001B[39m])]\n",
      "\u001B[0;31mNameError\u001B[0m: name 'df_binary' is not defined"
     ]
    }
   ],
   "source": [
    "BA = ['BA' + str(i) for i in range(df_binary.shape[1])]"
   ],
   "metadata": {
    "collapsed": false,
    "ExecuteTime": {
     "end_time": "2023-12-05T13:15:44.745012099Z",
     "start_time": "2023-12-05T13:15:44.538591183Z"
    }
   },
   "id": "138e62103af005d"
  },
  {
   "cell_type": "code",
   "execution_count": 84,
   "outputs": [],
   "source": [
    "print(\"id10271-1gtz-CUIygI-00011\".replace(\"-\", \"/\"))\n",
    "\n",
    "# print(.replace(\"-\", \"/\").split(\"/\"))\n",
    "\n",
    "text = \"/local_disk/arges/jduret/corpus/voxceleb1/test/wav/id10271/1gtz-CUIygI/00011.wav\".replace(\"\", \"\").replace(\"/local_disk/arges/jduret/corpus/voxceleb1/test/wav/\", \"\").replace(\"/local_disk/arges/jduret/corpus/voxceleb1/dev/wav/\", \"\").replace(\".wav\", \"\")\n",
    "text = text.replace(\"/\", \"-\")\n",
    "\n",
    "print(text)"
   ],
   "metadata": {
    "collapsed": false
   },
   "id": "16eeaa6583d336f"
  },
  {
   "cell_type": "code",
   "execution_count": 83,
   "outputs": [],
   "source": [
    "features_vox1_test=pd.read_csv(\"./data/vox1_opensmile.csv\")\n",
    "features_vox1_test.drop('Unnamed: 0', axis=1, inplace=True)\n",
    "df.drop('Unnamed: 0', axis=1, inplace=True)\n",
    "df = df.rename(columns={0: 'name'})\n",
    "\n",
    "# Créer les fichiers BA\n",
    "for i in range(1, df.shape[1]):\n",
    "    print(f\"BA{i-1}\")\n",
    "    print(df[f\"BA{i-1}\"])\n",
    "    ba0 = df[df[f\"BA{i-1}\"]==0][\"name\"]\n",
    "    ba1 = df[df[f\"BA{i-1}\"]==1][\"name\"]\n",
    "    \n",
    "    ba0 = pd.merge(ba0, features_vox1_test, on='name', how='inner')\n",
    "    ba1 = pd.merge(ba1, features_vox1_test, on='name', how='inner')\n",
    "    #ba0 = pd.DataFrame([df_binary[\"name\"], np.where(df_binary[f\"BA{i-1}\"]==0, 1, 0)], axis = 1) # colonne i \n",
    "    #ba1 = pd.DataFrame([df_binary[\"name\"], df_binary[f\"BA{i-1}\"]], axis = 1)\n",
    "    ba0.to_csv(f\"./data/BA/BA{i-1}_0.csv\", index = False)\n",
    "    ba1.to_csv(f\"./data/BA/BA{i-1}_1.csv\", index = False)"
   ],
   "metadata": {
    "collapsed": false
   },
   "id": "12d7570baaf6b981"
  },
  {
   "cell_type": "code",
   "execution_count": null,
   "outputs": [],
   "source": [],
   "metadata": {
    "collapsed": false
   },
   "id": "705bc12f875adafc"
  }
 ],
 "metadata": {
  "kernelspec": {
   "display_name": "Python 3",
   "language": "python",
   "name": "python3"
  },
  "language_info": {
   "codemirror_mode": {
    "name": "ipython",
    "version": 2
   },
   "file_extension": ".py",
   "mimetype": "text/x-python",
   "name": "python",
   "nbconvert_exporter": "python",
   "pygments_lexer": "ipython2",
   "version": "2.7.6"
  }
 },
 "nbformat": 4,
 "nbformat_minor": 5
}
