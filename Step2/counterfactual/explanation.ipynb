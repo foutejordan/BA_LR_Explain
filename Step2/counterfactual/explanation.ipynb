{
 "cells": [
  {
   "cell_type": "code",
   "execution_count": null,
   "id": "initial_id",
   "metadata": {
    "collapsed": true
   },
   "outputs": [],
   "source": [
    "from scipy.stats import norm\n",
    "from Step2.preprocessing.load_train_param import *\n",
    "from Step2.preprocessing.filters import *\n",
    "from Step2.LR.lr import *\n",
    "from Step2.LR.trials import *\n",
    "from Step2.LR.llr_prediction import *\n",
    "from Step2.LR.performance import cllr, min_cllr\n",
    "from sklearn.metrics.pairwise import cosine_similarity\n",
    "import shap\n",
    "import pickle\n",
    "\n",
    "\n",
    "\n",
    "\n",
    "\n"
   ]
  }
 ],
 "metadata": {
  "kernelspec": {
   "display_name": "Python 3",
   "language": "python",
   "name": "python3"
  },
  "language_info": {
   "codemirror_mode": {
    "name": "ipython",
    "version": 2
   },
   "file_extension": ".py",
   "mimetype": "text/x-python",
   "name": "python",
   "nbconvert_exporter": "python",
   "pygments_lexer": "ipython2",
   "version": "2.7.6"
  }
 },
 "nbformat": 4,
 "nbformat_minor": 5
}
