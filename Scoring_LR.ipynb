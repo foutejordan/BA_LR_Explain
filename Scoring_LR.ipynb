{
 "cells": [
  {
   "cell_type": "code",
   "execution_count": 1,
   "id": "1ffb722a",
   "metadata": {
    "pycharm": {
     "name": "#%%\n"
    },
    "ExecuteTime": {
     "end_time": "2023-11-23T22:37:11.174242168Z",
     "start_time": "2023-11-23T22:37:10.740162702Z"
    }
   },
   "outputs": [],
   "source": [
    "import warnings\n",
    "warnings.filterwarnings(\"ignore\")\n",
    "import pandas as pd\n",
    "import numpy as np\n",
    "import matplotlib.pyplot as plt\n",
    "import itertools\n",
    "import random\n",
    "import seaborn as sns\n",
    "from itertools import product\n",
    "import scipy.stats as stats\n",
    "import re\n",
    "import itertools\n",
    "from scipy.stats import norm\n",
    "from Step2.preprocessing.BA_params import *\n",
    "from Step2.preprocessing.load_train_param import *\n",
    "from Step2.preprocessing.filters import *\n",
    "from Step2.LR.lr import *\n",
    "from Step2.LR.trials import *\n",
    "from Step2.LR.llr_prediction import *\n",
    "from Step2.LR.performance import cllr, min_cllr\n",
    "from sklearn.metrics.pairwise import cosine_similarity\n",
    "import shap\n",
    "import pickle"
   ]
  },
  {
   "cell_type": "code",
   "execution_count": 2,
   "id": "310f7f30",
   "metadata": {
    "pycharm": {
     "name": "#%%\n"
    },
    "ExecuteTime": {
     "end_time": "2023-11-23T22:37:11.179076869Z",
     "start_time": "2023-11-23T22:37:11.175902046Z"
    }
   },
   "outputs": [],
   "source": [
    "# path=\"/local_disk/clytie/ibenamor/phd_experiments/scripts/LIA/stklia/exemples/voxceleb_seuil/model_dir/xvectors/voxceleb1_nosil/xvectors.txt\"\n",
    "# path1=\"/home/jordan/Documents/Avignon M2/interpretabilité & explicabiloté/Projet Mr Bonas/tp_jef/tp_jef/vec_vox1.txt\"\n",
    "path=\"/home/jordan/Documents/Avignon M2/interpretabilité & explicabiloté/Projet Mr Bonas/BA-LR/data/test_transformed.txt\"\n",
    "#Load parameters\n",
    "typ_path=\"/home/jordan/Documents/Avignon M2/interpretabilité & explicabiloté/Projet Mr Bonas/BA-LR/data/typ_test.txt\"\n",
    "dout_path=\"/home/jordan/Documents/Avignon M2/interpretabilité & explicabiloté/Projet Mr Bonas/BA-LR/data/dout_test.txt\"\n",
    "\n",
    "\n",
    "# with open(\"/home/jordan/Documents/Avignon M2/interpretabilité & explicabiloté/Projet Mr Bonas/BA-LR/data/test.txt\", 'r') as infile, open('/home/jordan/Documents/Avignon M2/interpretabilité & explicabiloté/Projet Mr Bonas/BA-LR/data/test_transformed.txt', 'w') as outfile:\n",
    "#      for line in infile:\n",
    "#         parts = line.split()\n",
    "#         # Extract the ID\n",
    "#         id = parts[0]\n",
    "# \n",
    "#         # Extract and concatenate vector parts\n",
    "#         vector = \"\"\n",
    "#         for part in parts[1:]:\n",
    "#             vector += part\n",
    "#             # Check if the vector part ends with ']'\n",
    "#             if ']' in part:\n",
    "#                 break\n",
    "#             else:\n",
    "#                 vector += \" \"\n",
    "#         else:\n",
    "#             # If ']' is not found, continue reading the next line\n",
    "#             while True:\n",
    "#                 next_line = next(infile).strip()\n",
    "#                 vector += next_line\n",
    "#                 if ']' in next_line:\n",
    "#                     break\n",
    "# \n",
    "#         # Remove extra spaces\n",
    "#         vector = ' '.join(vector.split())\n",
    "# \n",
    "#         # Write the transformed line to the output file\n",
    "#         outfile.write(f\"{id}   {vector}\\n\")\n",
    "# \n",
    "# print(\"Transformation complete. Output saved to output_transformed.txt\")"
   ]
  },
  {
   "cell_type": "code",
   "execution_count": 3,
   "id": "d5eb7b7a",
   "metadata": {
    "pycharm": {
     "name": "#%%\n"
    },
    "ExecuteTime": {
     "end_time": "2023-11-23T22:37:12.677226449Z",
     "start_time": "2023-11-23T22:37:12.615831529Z"
    }
   },
   "outputs": [
    {
     "name": "stdout",
     "output_type": "stream",
     "text": [
      "ligne id00032-5fmuA-cbnZA-00001   [0. 0. 1. 1. 0. 0. 0. 0. 0. 0. 0. 0. 1. 0. 0. 0. 1. 0. 0. 1. 1. 0. 0. 0. 0. 0. 1. 0. 0. 0. 0. 1. 0. 0. 0. 1. 0. 0. 0. 0. 0. 0. 0. 0. 0. 0. 1. 0. 0. 0. 0. 0. 0. 0. 0. 0. 0. 0. 1. 1. 0. 0. 1. 0. 0. 0. 0. 0. 0. 1. 1. 1. 0. 1. 0. 0. 0. 0. 0. 0. 1. 0. 1. 1. 0. 0. 0. 0. 0. 0. 0. 0. 0. 1. 0. 0. 0. 1. 0. 0. 0. 0. 0. 1. 0. 0. 0. 0. 0. 1. 1. 0. 0. 0. 0. 1. 0. 0. 0. 0. 0. 0. 0. 0. 0. 0. 0. 0. 0. 0. 0. 0. 1. 0. 0. 0. 1. 1. 0. 1. 1. 0. 0. 0. 0. 0. 0. 0. 0. 1. 0. 0. 0. 0. 0. 1. 0. 0. 0. 0. 0. 0. 0. 0. 0. 0. 1. 1. 0. 0. 1. 1. 0. 0. 0. 1. 0. 1. 0. 1. 1. 0. 0. 0. 0. 0. 0. 0. 0. 1. 0. 1. 1. 0. 0. 0. 1. 0. 0. 1. 0. 0. 0. 0. 0. 1. 0. 0. 0. 0. 0. 0. 0. 0. 0. 0. 0. 0. 0. 0. 0. 0. 0. 0. 1. 0. 0. 0. 0. 1. 1. 0. 0. 0. 0. 0. 0. 0. 0. 0. 1. 0. 0. 0. 0. 1. 0. 1. 1. 0. 0. 0. 1. 0. 0. 1.]\n",
      "\n",
      "ligne id00032-5fmuA-cbnZA-00003   [0. 0. 1. 1. 1. 0. 0. 0. 0. 0. 0. 0. 1. 0. 0. 0. 1. 0. 0. 1. 1. 0. 0. 0. 0. 0. 0. 0. 1. 0. 0. 1. 0. 0. 0. 1. 0. 0. 0. 0. 0. 0. 1. 0. 0. 0. 1. 0. 1. 0. 0. 0. 0. 0. 0. 1. 1. 0. 1. 0. 0. 0. 1. 0. 0. 1. 0. 0. 0. 0. 1. 1. 0. 0. 0. 0. 0. 0. 0. 0. 1. 0. 1. 1. 0. 0. 0. 0. 1. 0. 0. 0. 0. 1. 0. 0. 0. 1. 0. 0. 0. 0. 0. 1. 0. 0. 0. 0. 0. 0. 1. 0. 0. 0. 0. 0. 0. 0. 0. 0. 0. 0. 0. 0. 0. 0. 1. 0. 0. 0. 1. 0. 0. 0. 0. 0. 0. 1. 0. 1. 1. 0. 0. 0. 0. 0. 0. 0. 0. 0. 0. 0. 0. 1. 0. 1. 0. 0. 0. 0. 0. 0. 0. 0. 0. 1. 0. 0. 0. 0. 0. 1. 0. 0. 0. 1. 0. 1. 0. 1. 0. 0. 0. 0. 0. 0. 0. 0. 0. 1. 1. 1. 0. 0. 0. 0. 1. 0. 0. 1. 1. 0. 0. 0. 0. 0. 0. 0. 0. 0. 0. 0. 0. 0. 0. 0. 1. 0. 0. 0. 0. 0. 0. 0. 1. 0. 0. 0. 0. 0. 1. 0. 0. 0. 0. 0. 0. 0. 0. 0. 1. 0. 0. 0. 0. 0. 0. 1. 1. 0. 0. 1. 1. 0. 0. 1.]\n",
      "\n",
      "Progression : 50%\n",
      "ligne id00032-5fmuA-cbnZA-00004   [0. 0. 1. 1. 1. 0. 0. 0. 0. 0. 0. 0. 0. 0. 0. 0. 1. 0. 0. 0. 1. 0. 0. 0. 0. 0. 1. 0. 1. 0. 0. 1. 0. 0. 0. 0. 0. 0. 0. 0. 0. 0. 0. 0. 0. 0. 1. 0. 1. 0. 0. 0. 0. 0. 0. 1. 0. 0. 0. 0. 0. 0. 1. 0. 0. 1. 0. 0. 0. 0. 1. 1. 0. 1. 0. 0. 0. 0. 0. 0. 1. 0. 1. 1. 0. 0. 0. 0. 1. 0. 0. 0. 0. 1. 0. 0. 0. 1. 0. 0. 0. 0. 0. 0. 0. 0. 0. 0. 0. 0. 0. 0. 0. 0. 0. 1. 0. 0. 0. 0. 0. 0. 0. 0. 0. 0. 1. 0. 0. 0. 1. 0. 1. 0. 0. 0. 1. 1. 0. 1. 0. 0. 0. 0. 0. 1. 0. 0. 0. 0. 0. 0. 0. 0. 0. 1. 0. 0. 0. 0. 0. 0. 0. 0. 0. 1. 0. 0. 0. 0. 1. 1. 0. 0. 0. 1. 0. 1. 0. 1. 0. 0. 1. 0. 0. 0. 0. 0. 0. 1. 1. 1. 0. 0. 0. 0. 1. 0. 0. 1. 0. 0. 0. 0. 0. 0. 0. 0. 0. 0. 0. 0. 0. 0. 0. 0. 0. 0. 0. 0. 0. 0. 0. 0. 1. 0. 0. 0. 0. 1. 0. 0. 0. 0. 0. 0. 0. 0. 1. 1. 1. 0. 0. 0. 0. 0. 0. 0. 1. 0. 0. 0. 1. 0. 0. 1.]\n",
      "\n",
      "ligne id00032-5fmuA-cbnZA-00006   [0. 0. 1. 1. 0. 0. 0. 0. 0. 0. 0. 0. 1. 0. 0. 0. 1. 0. 0. 1. 1. 0. 0. 0. 0. 0. 1. 0. 0. 0. 0. 1. 0. 0. 0. 1. 0. 0. 0. 0. 0. 0. 0. 0. 0. 0. 1. 0. 1. 0. 0. 0. 0. 0. 0. 0. 0. 0. 1. 0. 1. 0. 1. 0. 0. 1. 0. 0. 0. 0. 1. 1. 0. 0. 0. 0. 0. 0. 0. 0. 1. 0. 1. 1. 0. 0. 0. 0. 1. 0. 0. 0. 0. 1. 0. 0. 0. 1. 0. 0. 0. 0. 0. 0. 0. 0. 0. 0. 0. 0. 0. 0. 0. 0. 0. 0. 0. 0. 0. 0. 0. 0. 0. 0. 0. 0. 1. 0. 0. 0. 1. 0. 0. 0. 0. 0. 0. 1. 0. 1. 0. 0. 0. 0. 0. 0. 0. 0. 0. 0. 0. 0. 0. 0. 1. 0. 0. 0. 0. 0. 0. 0. 0. 0. 0. 0. 0. 1. 0. 0. 1. 1. 0. 0. 0. 1. 0. 1. 0. 1. 1. 0. 1. 0. 0. 0. 1. 0. 0. 1. 1. 0. 0. 0. 0. 0. 1. 0. 1. 1. 1. 0. 0. 0. 0. 0. 0. 0. 0. 0. 1. 0. 0. 0. 0. 0. 1. 0. 0. 0. 0. 0. 0. 0. 1. 0. 0. 0. 0. 1. 1. 0. 0. 0. 0. 0. 0. 0. 0. 1. 1. 0. 0. 0. 0. 0. 0. 1. 1. 0. 0. 0. 1. 0. 0. 0.]\n",
      "\n",
      "Progression : 100%\n",
      "(4, 256)\n"
     ]
    },
    {
     "data": {
      "text/plain": "   BA2  BA3  BA4  BA12  BA16  BA19  BA20  BA26  BA28  BA31  ...  BA230  BA238  \\\n0  1.0  1.0  0.0   1.0   1.0   1.0   1.0   1.0   0.0   1.0  ...    1.0    0.0   \n1  1.0  1.0  1.0   1.0   1.0   1.0   1.0   0.0   1.0   1.0  ...    1.0    0.0   \n2  1.0  1.0  1.0   0.0   1.0   0.0   1.0   1.0   1.0   1.0  ...    0.0    1.0   \n3  1.0  1.0  0.0   1.0   1.0   1.0   1.0   1.0   0.0   1.0  ...    1.0    0.0   \n\n   BA239  BA240  BA245  BA247  BA248  BA251  BA252  BA255  \n0    0.0    1.0    1.0    1.0    1.0    0.0    1.0    1.0  \n1    0.0    1.0    0.0    1.0    1.0    1.0    1.0    1.0  \n2    1.0    1.0    0.0    0.0    1.0    0.0    1.0    1.0  \n3    1.0    1.0    0.0    1.0    1.0    0.0    1.0    0.0  \n\n[4 rows x 81 columns]",
      "text/html": "<div>\n<style scoped>\n    .dataframe tbody tr th:only-of-type {\n        vertical-align: middle;\n    }\n\n    .dataframe tbody tr th {\n        vertical-align: top;\n    }\n\n    .dataframe thead th {\n        text-align: right;\n    }\n</style>\n<table border=\"1\" class=\"dataframe\">\n  <thead>\n    <tr style=\"text-align: right;\">\n      <th></th>\n      <th>BA2</th>\n      <th>BA3</th>\n      <th>BA4</th>\n      <th>BA12</th>\n      <th>BA16</th>\n      <th>BA19</th>\n      <th>BA20</th>\n      <th>BA26</th>\n      <th>BA28</th>\n      <th>BA31</th>\n      <th>...</th>\n      <th>BA230</th>\n      <th>BA238</th>\n      <th>BA239</th>\n      <th>BA240</th>\n      <th>BA245</th>\n      <th>BA247</th>\n      <th>BA248</th>\n      <th>BA251</th>\n      <th>BA252</th>\n      <th>BA255</th>\n    </tr>\n  </thead>\n  <tbody>\n    <tr>\n      <th>0</th>\n      <td>1.0</td>\n      <td>1.0</td>\n      <td>0.0</td>\n      <td>1.0</td>\n      <td>1.0</td>\n      <td>1.0</td>\n      <td>1.0</td>\n      <td>1.0</td>\n      <td>0.0</td>\n      <td>1.0</td>\n      <td>...</td>\n      <td>1.0</td>\n      <td>0.0</td>\n      <td>0.0</td>\n      <td>1.0</td>\n      <td>1.0</td>\n      <td>1.0</td>\n      <td>1.0</td>\n      <td>0.0</td>\n      <td>1.0</td>\n      <td>1.0</td>\n    </tr>\n    <tr>\n      <th>1</th>\n      <td>1.0</td>\n      <td>1.0</td>\n      <td>1.0</td>\n      <td>1.0</td>\n      <td>1.0</td>\n      <td>1.0</td>\n      <td>1.0</td>\n      <td>0.0</td>\n      <td>1.0</td>\n      <td>1.0</td>\n      <td>...</td>\n      <td>1.0</td>\n      <td>0.0</td>\n      <td>0.0</td>\n      <td>1.0</td>\n      <td>0.0</td>\n      <td>1.0</td>\n      <td>1.0</td>\n      <td>1.0</td>\n      <td>1.0</td>\n      <td>1.0</td>\n    </tr>\n    <tr>\n      <th>2</th>\n      <td>1.0</td>\n      <td>1.0</td>\n      <td>1.0</td>\n      <td>0.0</td>\n      <td>1.0</td>\n      <td>0.0</td>\n      <td>1.0</td>\n      <td>1.0</td>\n      <td>1.0</td>\n      <td>1.0</td>\n      <td>...</td>\n      <td>0.0</td>\n      <td>1.0</td>\n      <td>1.0</td>\n      <td>1.0</td>\n      <td>0.0</td>\n      <td>0.0</td>\n      <td>1.0</td>\n      <td>0.0</td>\n      <td>1.0</td>\n      <td>1.0</td>\n    </tr>\n    <tr>\n      <th>3</th>\n      <td>1.0</td>\n      <td>1.0</td>\n      <td>0.0</td>\n      <td>1.0</td>\n      <td>1.0</td>\n      <td>1.0</td>\n      <td>1.0</td>\n      <td>1.0</td>\n      <td>0.0</td>\n      <td>1.0</td>\n      <td>...</td>\n      <td>1.0</td>\n      <td>0.0</td>\n      <td>1.0</td>\n      <td>1.0</td>\n      <td>0.0</td>\n      <td>1.0</td>\n      <td>1.0</td>\n      <td>0.0</td>\n      <td>1.0</td>\n      <td>0.0</td>\n    </tr>\n  </tbody>\n</table>\n<p>4 rows × 81 columns</p>\n</div>"
     },
     "execution_count": 3,
     "metadata": {},
     "output_type": "execute_result"
    }
   ],
   "source": [
    "utterances, vectors = readVectors_test(path)\n",
    "xvectors = np.array(vectors).astype('float64')\n",
    "print(xvectors.shape)\n",
    "BA = ['BA' + str(i) for i in range(xvectors.shape[1])]\n",
    "df = pd.DataFrame(xvectors, columns=BA)\n",
    "df=todelete(df,BA)\n",
    "df\n",
    "# que fait le code ci dessus?\n",
    "# on a un dataframe avec les BA en colonnes et les vecteurs en lignes\n",
    "# on supprime les BA qui ont une variance nulle\n",
    "# on a donc un dataframe avec les BA en colonnes et les vecteurs en lignes\n",
    " "
   ]
  },
  {
   "cell_type": "code",
   "execution_count": 13,
   "outputs": [
    {
     "data": {
      "text/plain": "{'id00032': 4}"
     },
     "execution_count": 13,
     "metadata": {},
     "output_type": "execute_result"
    }
   ],
   "source": [
    "utt_per_spk, loc_list = number_utterances(utterances)\n",
    "utt_per_spk"
   ],
   "metadata": {
    "collapsed": false,
    "ExecuteTime": {
     "end_time": "2023-11-23T22:39:16.777732426Z",
     "start_time": "2023-11-23T22:39:16.731568726Z"
    }
   },
   "id": "c71439e793fe8099"
  },
  {
   "cell_type": "code",
   "execution_count": 14,
   "outputs": [
    {
     "data": {
      "text/plain": "{'id00032': ['utt0', 'utt1', 'utt2', 'utt3']}"
     },
     "execution_count": 14,
     "metadata": {},
     "output_type": "execute_result"
    }
   ],
   "source": [
    "utt_spk = utterance_spk(utt_per_spk)\n",
    "utt_spk"
   ],
   "metadata": {
    "collapsed": false,
    "ExecuteTime": {
     "end_time": "2023-11-23T22:39:26.118300242Z",
     "start_time": "2023-11-23T22:39:26.113477725Z"
    }
   },
   "id": "abe1bbc4e5f6f96"
  },
  {
   "cell_type": "code",
   "execution_count": 6,
   "outputs": [
    {
     "data": {
      "text/plain": "{'id00032': {'BA0': 0,\n  'BA1': 0,\n  'BA2': 1,\n  'BA3': 1,\n  'BA4': 1,\n  'BA5': 0,\n  'BA6': 0,\n  'BA7': 0,\n  'BA8': 0,\n  'BA9': 0,\n  'BA10': 0,\n  'BA11': 0,\n  'BA12': 1,\n  'BA13': 0,\n  'BA14': 0,\n  'BA15': 0,\n  'BA16': 1,\n  'BA17': 0,\n  'BA18': 0,\n  'BA19': 1,\n  'BA20': 1,\n  'BA21': 0,\n  'BA22': 0,\n  'BA23': 0,\n  'BA24': 0,\n  'BA25': 0,\n  'BA26': 1,\n  'BA27': 0,\n  'BA28': 1,\n  'BA29': 0,\n  'BA30': 0,\n  'BA31': 1,\n  'BA32': 0,\n  'BA33': 0,\n  'BA34': 0,\n  'BA35': 1,\n  'BA36': 0,\n  'BA37': 0,\n  'BA38': 0,\n  'BA39': 0,\n  'BA40': 0,\n  'BA41': 0,\n  'BA42': 1,\n  'BA43': 0,\n  'BA44': 0,\n  'BA45': 0,\n  'BA46': 1,\n  'BA47': 0,\n  'BA48': 1,\n  'BA49': 0,\n  'BA50': 0,\n  'BA51': 0,\n  'BA52': 0,\n  'BA53': 0,\n  'BA54': 0,\n  'BA55': 1,\n  'BA56': 1,\n  'BA57': 0,\n  'BA58': 1,\n  'BA59': 1,\n  'BA60': 1,\n  'BA61': 0,\n  'BA62': 1,\n  'BA63': 0,\n  'BA64': 0,\n  'BA65': 1,\n  'BA66': 0,\n  'BA67': 0,\n  'BA68': 0,\n  'BA69': 1,\n  'BA70': 1,\n  'BA71': 1,\n  'BA72': 0,\n  'BA73': 1,\n  'BA74': 0,\n  'BA75': 0,\n  'BA76': 0,\n  'BA77': 0,\n  'BA78': 0,\n  'BA79': 0,\n  'BA80': 1,\n  'BA81': 0,\n  'BA82': 1,\n  'BA83': 1,\n  'BA84': 0,\n  'BA85': 0,\n  'BA86': 0,\n  'BA87': 0,\n  'BA88': 1,\n  'BA89': 0,\n  'BA90': 0,\n  'BA91': 0,\n  'BA92': 0,\n  'BA93': 1,\n  'BA94': 0,\n  'BA95': 0,\n  'BA96': 0,\n  'BA97': 1,\n  'BA98': 0,\n  'BA99': 0,\n  'BA100': 0,\n  'BA101': 0,\n  'BA102': 0,\n  'BA103': 1,\n  'BA104': 0,\n  'BA105': 0,\n  'BA106': 0,\n  'BA107': 0,\n  'BA108': 0,\n  'BA109': 1,\n  'BA110': 1,\n  'BA111': 0,\n  'BA112': 0,\n  'BA113': 0,\n  'BA114': 0,\n  'BA115': 1,\n  'BA116': 0,\n  'BA117': 0,\n  'BA118': 0,\n  'BA119': 0,\n  'BA120': 0,\n  'BA121': 0,\n  'BA122': 0,\n  'BA123': 0,\n  'BA124': 0,\n  'BA125': 0,\n  'BA126': 1,\n  'BA127': 0,\n  'BA128': 0,\n  'BA129': 0,\n  'BA130': 1,\n  'BA131': 0,\n  'BA132': 1,\n  'BA133': 0,\n  'BA134': 0,\n  'BA135': 0,\n  'BA136': 1,\n  'BA137': 1,\n  'BA138': 0,\n  'BA139': 1,\n  'BA140': 1,\n  'BA141': 0,\n  'BA142': 0,\n  'BA143': 0,\n  'BA144': 0,\n  'BA145': 1,\n  'BA146': 0,\n  'BA147': 0,\n  'BA148': 0,\n  'BA149': 1,\n  'BA150': 0,\n  'BA151': 0,\n  'BA152': 0,\n  'BA153': 1,\n  'BA154': 1,\n  'BA155': 1,\n  'BA156': 0,\n  'BA157': 0,\n  'BA158': 0,\n  'BA159': 0,\n  'BA160': 0,\n  'BA161': 0,\n  'BA162': 0,\n  'BA163': 0,\n  'BA164': 0,\n  'BA165': 1,\n  'BA166': 1,\n  'BA167': 1,\n  'BA168': 0,\n  'BA169': 0,\n  'BA170': 1,\n  'BA171': 1,\n  'BA172': 0,\n  'BA173': 0,\n  'BA174': 0,\n  'BA175': 1,\n  'BA176': 0,\n  'BA177': 1,\n  'BA178': 0,\n  'BA179': 1,\n  'BA180': 1,\n  'BA181': 0,\n  'BA182': 1,\n  'BA183': 0,\n  'BA184': 0,\n  'BA185': 0,\n  'BA186': 1,\n  'BA187': 0,\n  'BA188': 0,\n  'BA189': 1,\n  'BA190': 1,\n  'BA191': 1,\n  'BA192': 1,\n  'BA193': 0,\n  'BA194': 0,\n  'BA195': 0,\n  'BA196': 1,\n  'BA197': 0,\n  'BA198': 1,\n  'BA199': 1,\n  'BA200': 1,\n  'BA201': 0,\n  'BA202': 0,\n  'BA203': 0,\n  'BA204': 0,\n  'BA205': 1,\n  'BA206': 0,\n  'BA207': 0,\n  'BA208': 0,\n  'BA209': 0,\n  'BA210': 1,\n  'BA211': 0,\n  'BA212': 0,\n  'BA213': 0,\n  'BA214': 0,\n  'BA215': 0,\n  'BA216': 1,\n  'BA217': 0,\n  'BA218': 0,\n  'BA219': 0,\n  'BA220': 0,\n  'BA221': 0,\n  'BA222': 0,\n  'BA223': 0,\n  'BA224': 1,\n  'BA225': 0,\n  'BA226': 0,\n  'BA227': 0,\n  'BA228': 0,\n  'BA229': 1,\n  'BA230': 1,\n  'BA231': 0,\n  'BA232': 0,\n  'BA233': 0,\n  'BA234': 0,\n  'BA235': 0,\n  'BA236': 0,\n  'BA237': 0,\n  'BA238': 1,\n  'BA239': 1,\n  'BA240': 1,\n  'BA241': 0,\n  'BA242': 0,\n  'BA243': 0,\n  'BA244': 0,\n  'BA245': 1,\n  'BA246': 0,\n  'BA247': 1,\n  'BA248': 1,\n  'BA249': 0,\n  'BA250': 0,\n  'BA251': 1,\n  'BA252': 1,\n  'BA253': 0,\n  'BA254': 0,\n  'BA255': 1}}"
     },
     "execution_count": 6,
     "metadata": {},
     "output_type": "execute_result"
    }
   ],
   "source": [
    "profil = profil_spk(xvectors, utt_per_spk, BA)\n",
    "profil"
   ],
   "metadata": {
    "collapsed": false,
    "ExecuteTime": {
     "end_time": "2023-11-23T22:37:33.647232608Z",
     "start_time": "2023-11-23T22:37:33.641182492Z"
    }
   },
   "id": "361e29d6016e2e9b"
  },
  {
   "cell_type": "code",
   "execution_count": 7,
   "outputs": [
    {
     "data": {
      "text/plain": "[]"
     },
     "execution_count": 7,
     "metadata": {},
     "output_type": "execute_result"
    }
   ],
   "source": [
    "logging.info(\"computing combinations...\")\n",
    "couples = list(itertools.combinations(utt_per_spk.keys(), 2))\n",
    "couples"
   ],
   "metadata": {
    "collapsed": false,
    "ExecuteTime": {
     "end_time": "2023-11-23T22:37:44.297271892Z",
     "start_time": "2023-11-23T22:37:44.254937951Z"
    }
   },
   "id": "748d4d79dfbf474e"
  },
  {
   "cell_type": "code",
   "execution_count": 8,
   "outputs": [
    {
     "ename": "ZeroDivisionError",
     "evalue": "division by zero",
     "output_type": "error",
     "traceback": [
      "\u001B[0;31m---------------------------------------------------------------------------\u001B[0m",
      "\u001B[0;31mZeroDivisionError\u001B[0m                         Traceback (most recent call last)",
      "Cell \u001B[0;32mIn[8], line 1\u001B[0m\n\u001B[0;32m----> 1\u001B[0m typicality_and_dropout(profil, couples, utt_spk, BA, xvectors, typ_path, dout_path)\n",
      "File \u001B[0;32m~/Documents/Avignon M2/interpretabilité & explicabiloté/Projet Mr Bonas/BA-LR/Step2/preprocessing/BA_params.py:188\u001B[0m, in \u001B[0;36mtypicality_and_dropout\u001B[0;34m(profil, couples, utt_spk, BA, vectors, typ_path, dout_path)\u001B[0m\n\u001B[1;32m    186\u001B[0m nb_spk_has_BA \u001B[38;5;241m=\u001B[39m {}\n\u001B[1;32m    187\u001B[0m \u001B[38;5;28;01mfor\u001B[39;00m index, b \u001B[38;5;129;01min\u001B[39;00m \u001B[38;5;28menumerate\u001B[39m(BA):\n\u001B[0;32m--> 188\u001B[0m     typ, couples_active_b \u001B[38;5;241m=\u001B[39m compute_typicality(b, couples, profil)\n\u001B[1;32m    189\u001B[0m     nb_couples_b[b] \u001B[38;5;241m=\u001B[39m couples_active_b\n\u001B[1;32m    190\u001B[0m     typicalities[b] \u001B[38;5;241m=\u001B[39m typ\n",
      "File \u001B[0;32m~/Documents/Avignon M2/interpretabilité & explicabiloté/Projet Mr Bonas/BA-LR/Step2/preprocessing/BA_params.py:95\u001B[0m, in \u001B[0;36mcompute_typicality\u001B[0;34m(b, couples, profil)\u001B[0m\n\u001B[1;32m     93\u001B[0m         nb \u001B[38;5;241m+\u001B[39m\u001B[38;5;241m=\u001B[39m \u001B[38;5;241m1\u001B[39m\n\u001B[1;32m     94\u001B[0m \u001B[38;5;66;03m# stat_BA[b] = nb\u001B[39;00m\n\u001B[0;32m---> 95\u001B[0m typ_BA \u001B[38;5;241m=\u001B[39m nb \u001B[38;5;241m/\u001B[39m \u001B[38;5;28mlen\u001B[39m(couples)\n\u001B[1;32m     96\u001B[0m \u001B[38;5;28;01mreturn\u001B[39;00m typ_BA\n",
      "\u001B[0;31mZeroDivisionError\u001B[0m: division by zero"
     ]
    }
   ],
   "source": [
    "typicality_and_dropout(profil, couples, utt_spk, BA, xvectors, typ_path, dout_path)"
   ],
   "metadata": {
    "collapsed": false,
    "ExecuteTime": {
     "end_time": "2023-11-23T22:37:53.476139790Z",
     "start_time": "2023-11-23T22:37:53.332719896Z"
    }
   },
   "id": "74b845ebd6232bf4"
  },
  {
   "cell_type": "code",
   "execution_count": 9,
   "id": "ca4ce25f",
   "metadata": {
    "pycharm": {
     "name": "#%%\n"
    },
    "ExecuteTime": {
     "end_time": "2023-11-23T22:38:04.897268764Z",
     "start_time": "2023-11-23T22:38:04.885728093Z"
    }
   },
   "outputs": [],
   "source": [
    "typ,dout=load_filter_soft(typ_path,dout_path)\n",
    "df=df[list(typ.keys())]\n",
    "BA_test=list(typ.keys())\n",
    "# on charge les parametres typ et dout\n",
    "# on garde les BA qui ont un typ et un dout non nuls\n",
    "# on a donc un dataframe avec les BA en colonnes et les vecteurs en lignes"
   ]
  },
  {
   "cell_type": "code",
   "execution_count": 10,
   "id": "87a00b4b",
   "metadata": {
    "pycharm": {
     "name": "#%%\n"
    },
    "ExecuteTime": {
     "end_time": "2023-11-23T22:38:13.299578256Z",
     "start_time": "2023-11-23T22:38:13.256205937Z"
    }
   },
   "outputs": [],
   "source": [
    "utt={}\n",
    "for (idx,row) in df.iterrows():\n",
    "    utt[f\"utt{idx}\"]=dict(row)\n",
    "# que fait le code ci dessus?\n",
    "# on cree un dictionnaire avec les BA en cle et les vecteurs en valeurs"
   ]
  },
  {
   "cell_type": "code",
   "execution_count": 11,
   "id": "154aa1a0",
   "metadata": {
    "pycharm": {
     "name": "#%%\n"
    },
    "ExecuteTime": {
     "end_time": "2023-11-23T22:38:21.184826911Z",
     "start_time": "2023-11-23T22:38:20.487047342Z"
    }
   },
   "outputs": [
    {
     "ename": "KeyError",
     "evalue": "'utt116816'",
     "output_type": "error",
     "traceback": [
      "\u001B[0;31m---------------------------------------------------------------------------\u001B[0m",
      "\u001B[0;31mKeyError\u001B[0m                                  Traceback (most recent call last)",
      "Cell \u001B[0;32mIn[11], line 2\u001B[0m\n\u001B[1;32m      1\u001B[0m non,tar\u001B[38;5;241m=\u001B[39m load_trials()\n\u001B[0;32m----> 2\u001B[0m LLR_target,LLR_non,list_eer,list_cllr_min,list_cllr_act,list_Din\u001B[38;5;241m=\u001B[39mLR_framework(dout,typ,utt,tar,non,[\u001B[38;5;241m0.12\u001B[39m])\n\u001B[1;32m      3\u001B[0m plt\u001B[38;5;241m.\u001B[39mshow()\n",
      "File \u001B[0;32m~/Documents/Avignon M2/interpretabilité & explicabiloté/Projet Mr Bonas/BA-LR/Step2/LR/llr_prediction.py:33\u001B[0m, in \u001B[0;36mLR_framework\u001B[0;34m(dropout, typ_va, utt, target, non, lprob_dropin)\u001B[0m\n\u001B[1;32m     31\u001B[0m \u001B[38;5;28;01mfor\u001B[39;00m prob_dropin \u001B[38;5;129;01min\u001B[39;00m lprob_dropin:\n\u001B[1;32m     32\u001B[0m     list_Din\u001B[38;5;241m.\u001B[39mappend(prob_dropin)\n\u001B[0;32m---> 33\u001B[0m     LLR_target\u001B[38;5;241m=\u001B[39mLLR(target,utt,dropout,typ_va,prob_dropin)\n\u001B[1;32m     34\u001B[0m     LLR_non\u001B[38;5;241m=\u001B[39mLLR(non,utt,dropout,typ_va,prob_dropin)\n\u001B[1;32m     35\u001B[0m     cllr_mini,cllr_act,eer,cal_tar,cal_non\u001B[38;5;241m=\u001B[39mCllr_min(LLR_target, LLR_non)\n",
      "File \u001B[0;32m~/Documents/Avignon M2/interpretabilité & explicabiloté/Projet Mr Bonas/BA-LR/Step2/LR/llr_prediction.py:17\u001B[0m, in \u001B[0;36mLLR\u001B[0;34m(pair, utt, dropout, typ_va, prob_dropin)\u001B[0m\n\u001B[1;32m     15\u001B[0m \u001B[38;5;28;01mfor\u001B[39;00m (u1, u2) \u001B[38;5;129;01min\u001B[39;00m pair:\n\u001B[1;32m     16\u001B[0m     lr \u001B[38;5;241m=\u001B[39m \u001B[38;5;241m1\u001B[39m\n\u001B[0;32m---> 17\u001B[0m     \u001B[38;5;28;01mfor\u001B[39;00m i \u001B[38;5;129;01min\u001B[39;00m utt[u1]:\n\u001B[1;32m     18\u001B[0m         \u001B[38;5;28;01mif\u001B[39;00m utt[u1][i] \u001B[38;5;241m==\u001B[39m \u001B[38;5;241m1\u001B[39m \u001B[38;5;129;01mand\u001B[39;00m utt[u2][i] \u001B[38;5;241m==\u001B[39m \u001B[38;5;241m1\u001B[39m:\n\u001B[1;32m     19\u001B[0m             lr \u001B[38;5;241m*\u001B[39m\u001B[38;5;241m=\u001B[39m LR_11(typ_va[i], dropout[i], prob_dropin)\n",
      "\u001B[0;31mKeyError\u001B[0m: 'utt116816'"
     ]
    }
   ],
   "source": [
    "non,tar= load_trials()\n",
    "LLR_target,LLR_non,list_eer,list_cllr_min,list_cllr_act,list_Din=LR_framework(dout,typ,utt,tar,non,[0.12])\n",
    "plt.show()\n",
    "\n",
    "# on charge les trials\n",
    "# on calcule les LLR pour les trials\n",
    "# on affiche les courbes eer, cllr_min, cllr_act, Din\n",
    "# a quoi correspondent les trials?\n",
    "#  les trials sont des paires d'indices d'utterances (i1,i2), qui correspond a une paire de vecteurs (v1,v2) avec v1=utt[i1] et v2=utt[i2]\n",
    "\n",
    "# a quoi correspond LLR_target, LLR_non ?: LLR_target: LLR pour les trials target, LLR_non: LLR pour les trials non target. on a besoin de ça pour calculer les statistiques pour les LLR partiels (voir plus bas).\n",
    "# a quoi correspond eer, cllr_min, cllr_act, Din?\n",
    "# eer: equal error rate:  taux d'erreur pour lequel le taux de faux positifs est egal au taux de faux negatifs\n",
    "# cllr_min: cllr minimal: cllr pour lequel le taux de faux positifs est egal au taux de faux negatifs\n",
    "# cllr_act: cllr actuel: cllr pour lequel le taux de faux positifs est egal au taux de faux negatifs\n",
    "# Din: detection cost: cout de detection"
   ]
  },
  {
   "cell_type": "code",
   "execution_count": 12,
   "id": "1387f45d",
   "metadata": {
    "pycharm": {
     "name": "#%%\n"
    },
    "ExecuteTime": {
     "end_time": "2023-11-23T22:38:30.238575309Z",
     "start_time": "2023-11-23T22:38:30.171618746Z"
    }
   },
   "outputs": [
    {
     "ename": "NameError",
     "evalue": "name 'LLR_target' is not defined",
     "output_type": "error",
     "traceback": [
      "\u001B[0;31m---------------------------------------------------------------------------\u001B[0m",
      "\u001B[0;31mNameError\u001B[0m                                 Traceback (most recent call last)",
      "Cell \u001B[0;32mIn[12], line 3\u001B[0m\n\u001B[1;32m      1\u001B[0m utt_llr_tar,llr_type_tar\u001B[38;5;241m=\u001B[39mpartial_lr_analysis(tar, BA_test,utt,typ, dout, prob_dropin\u001B[38;5;241m=\u001B[39m\u001B[38;5;241m0.12\u001B[39m)\n\u001B[1;32m      2\u001B[0m utt_llr_non,llr_type_non\u001B[38;5;241m=\u001B[39mpartial_lr_analysis(non,BA_test,utt,typ, dout, prob_dropin\u001B[38;5;241m=\u001B[39m\u001B[38;5;241m0.12\u001B[39m)\n\u001B[0;32m----> 3\u001B[0m df_llr_tar\u001B[38;5;241m=\u001B[39mstats(utt_llr_tar,LLR_target)\n\u001B[1;32m      4\u001B[0m df_llr_non\u001B[38;5;241m=\u001B[39mstats(utt_llr_non,LLR_non)\n",
      "\u001B[0;31mNameError\u001B[0m: name 'LLR_target' is not defined"
     ]
    }
   ],
   "source": [
    "utt_llr_tar,llr_type_tar=partial_lr_analysis(tar, BA_test,utt,typ, dout, prob_dropin=0.12)\n",
    "utt_llr_non,llr_type_non=partial_lr_analysis(non,BA_test,utt,typ, dout, prob_dropin=0.12)\n",
    "df_llr_tar=stats(utt_llr_tar,LLR_target)\n",
    "df_llr_non=stats(utt_llr_non,LLR_non)\n",
    "# que fait le code ci dessus?\n",
    "# on calcule les LLR partiels pour les trials\n",
    "# on calcule les statistiques pour les LLR partiels"
   ]
  },
  {
   "cell_type": "code",
   "execution_count": null,
   "id": "0dba2f2c",
   "metadata": {
    "pycharm": {
     "name": "#%%\n"
    },
    "ExecuteTime": {
     "start_time": "2023-11-23T05:37:53.856134338Z"
    }
   },
   "outputs": [],
   "source": [
    "BA_tar={}\n",
    "for ba in BA_test:\n",
    "    ba_target=[]\n",
    "    for i1,i2 in tar:\n",
    "        ba_target.append((int(utt[i1][ba]),int(utt[i2][ba])))\n",
    "    BA_tar[ba]=ba_target\n",
    "#composition of each utterance in the non couples\n",
    "BA_non={}\n",
    "for ba in BA_test:\n",
    "    ba_non=[]\n",
    "    for i1,i2 in non:\n",
    "        ba_non.append((int(utt[i1][ba]),int(utt[i2][ba])))\n",
    "    BA_non[ba]=ba_non\n",
    "df_BA_non=pd.DataFrame(BA_non)\n",
    "df_non=pd.DataFrame(pd.Series(non),columns=[\"non\"])\n",
    "df_non=pd.concat([df_non,df_BA_non],axis=1)\n",
    "df_BA=pd.DataFrame(BA_tar)\n",
    "df_tar=pd.DataFrame(pd.Series(tar),columns=[\"target\"])\n",
    "df_tar=pd.concat([df_tar,df_BA],axis=1)\n",
    "df_tar[\"scores\"]=LLR_target\n",
    "df_non[\"scores\"]=LLR_non\n",
    "# que fait le code ci dessus?\n",
    "# on cree un dataframe avec les trials en lignes et les BA en colonnes"
   ]
  },
  {
   "cell_type": "code",
   "execution_count": null,
   "id": "daa0281d",
   "metadata": {
    "pycharm": {
     "name": "#%%\n"
    },
    "ExecuteTime": {
     "start_time": "2023-11-23T05:37:53.856343535Z"
    }
   },
   "outputs": [],
   "source": [
    "scores_BA={}\n",
    "for b in BA_test:\n",
    "    if b in BA_test:\n",
    "        scores_BA[b]={\"00\":0,\"01\":0,\"10\":0,\"11\":0}\n",
    "        for i in set(df_llr_tar[b]):\n",
    "            index=df_llr_tar[df_llr_tar[b]==i].index[0]\n",
    "            if df_tar[b].loc[index]==(0, 0):\n",
    "                scores_BA[b][\"00\"]=i\n",
    "            elif df_tar[b].loc[index]==(1, 0):\n",
    "                scores_BA[b][\"10\"]=i\n",
    "            elif df_tar[b].loc[index]==(0, 1):\n",
    "                scores_BA[b][\"01\"]=i\n",
    "            else:\n",
    "                scores_BA[b][\"11\"]=i\n",
    "# que fait le code ci dessus?\n",
    "# on cree un dictionnaire avec les BA en cle et les LLR partiels en valeurs"
   ]
  },
  {
   "cell_type": "code",
   "execution_count": null,
   "id": "e9aeee10",
   "metadata": {
    "pycharm": {
     "name": "#%%\n"
    },
    "ExecuteTime": {
     "start_time": "2023-11-23T05:37:53.856552421Z"
    }
   },
   "outputs": [],
   "source": [
    "scores_df=pd.DataFrame.from_dict(scores_BA).T\n",
    "plt.figure(figsize=(4,3))\n",
    "sns.boxplot(data=scores_df, orient=\"v\")\n",
    "plt.title(\"Distribution of partial LLRs\")\n",
    "plt.xlabel(\"LLRs\")\n",
    "plt.ylabel(\"Partial LLRs\")\n",
    "plt.show()"
   ]
  },
  {
   "cell_type": "code",
   "execution_count": null,
   "id": "d594e210",
   "metadata": {
    "pycharm": {
     "name": "#%%\n"
    },
    "ExecuteTime": {
     "start_time": "2023-11-23T05:37:53.856849595Z"
    }
   },
   "outputs": [],
   "source": [
    "scores_BA_df=pd.DataFrame()\n",
    "scores_BA_df[\"BA\"]=typ.keys()\n",
    "scores_BA_df[\"Typicality\"]=typ.values()\n",
    "scores_BA_df[\"Dropout\"]=dout.values()\n",
    "scores_BA_df=scores_BA_df.sort_values(\"Typicality\")\n",
    "# que fait le code ci dessus?\n",
    "# on cree un dataframe avec les BA en lignes et les parametres typ et dout en colonnes\n",
    "# on trie les BA par ordre croissant de typicalite\n",
    "# a quoi correspond les parametres typ et dout?\n",
    "# typ: typicality: typicite: probabilité qu'un BA soit present dans un vecteur\n",
    "# dout: dropout: probabilité qu'un BA soit absent dans un vecteur"
   ]
  },
  {
   "cell_type": "code",
   "execution_count": null,
   "id": "c982397f",
   "metadata": {
    "pycharm": {
     "name": "#%%\n"
    },
    "ExecuteTime": {
     "start_time": "2023-11-23T05:37:53.857111392Z"
    }
   },
   "outputs": [],
   "source": [
    "scores_BA_df=scores_BA_df.set_index('BA')\n",
    "scores_BA_df=pd.concat([scores_BA_df,scores_df],axis=1)\n",
    "scores_BA_df.reset_index(inplace=True)\n"
   ]
  },
  {
   "cell_type": "code",
   "execution_count": null,
   "outputs": [],
   "source": [
    "tar=[i for i in list(df_tar[\"target\"])]\n",
    "non=[i for i in list(df_non[\"non\"])]\n",
    "def data_shape(tar,non,typ,dout,utt):\n",
    "    U1=[]\n",
    "    U2=[]\n",
    "    for i in tar+non:\n",
    "        c1=[]\n",
    "        #print(utt[i[0]])\n",
    "        for j in utt[i[0]].keys():\n",
    "            c1.append(str(int(utt[i[0]][j]))+str(int(utt[i[1]][j])))\n",
    "        U1.append(c1)\n",
    "    test1=pd.DataFrame(U1,columns=BA_test)\n",
    "    test1=test1.replace(\"01\",1)\n",
    "    test1=test1.replace(\"10\",1)\n",
    "    test1=test1.replace(\"00\",2)\n",
    "    test1=test1.replace(\"11\",3)\n",
    "    for i in test1.columns:\n",
    "        test1[i] = test1[i].astype(\"category\")\n",
    "    return test1\n",
    "\n",
    "# que fait le code ci dessus?\n",
    "# on cree un dataframe avec les BA en colonnes et les trials en lignes\n",
    "# le lr est calculé pour chaque BA\n",
    "def model(test):\n",
    "    llr=[]\n",
    "    test=pd.DataFrame(test,columns=BA_test)\n",
    "    for idx,row in test.iterrows():\n",
    "        lr=1\n",
    "        for i in BA_test:\n",
    "            #print(test.loc[idx][i])\n",
    "            if test.loc[idx][i]!=0:\n",
    "                if test.loc[idx][i]==3:\n",
    "                    lr*=LR_11(typ[i],dout[i],prob_dropin)\n",
    "                elif test.loc[idx][i]==2:\n",
    "                    lr *= LR_00(typ[i], dout[i], prob_dropin)\n",
    "                else:\n",
    "                    lr *= LR_01(typ[i], prob_dropin)\n",
    "        llr.append(np.log(lr))\n",
    "    return np.array(llr)\n",
    "\n",
    "# que fait le code ci dessus?\n",
    "# on cree une fonction qui calcule les LLR partiels pour un vecteur\n",
    "\n",
    "def custom_masker(mask, x):\n",
    "    \n",
    "    return (x * mask).reshape(1,len(x))\n",
    "\n",
    "# on cree une fonction qui applique un masque a un vecteur\n",
    "# on applique le masque a un vecteur pour avoir un vecteur avec des 0; pourquoi ? : pour avoir un vecteur avec des 0 et des 1"
   ],
   "metadata": {
    "collapsed": false,
    "ExecuteTime": {
     "start_time": "2023-11-23T05:37:53.857351167Z"
    }
   },
   "id": "48b9d0e4a825ab73"
  },
  {
   "cell_type": "code",
   "execution_count": null,
   "id": "d38c1bfc",
   "metadata": {
    "pycharm": {
     "name": "#%%\n"
    },
    "ExecuteTime": {
     "start_time": "2023-11-23T05:37:53.857639655Z"
    }
   },
   "outputs": [],
   "source": [
    "prob_dropin=0.12\n",
    "explainer = shap.Explainer(model,custom_masker)\n"
   ]
  },
  {
   "cell_type": "code",
   "execution_count": null,
   "id": "ab20ea75",
   "metadata": {
    "pycharm": {
     "name": "#%%\n"
    },
    "ExecuteTime": {
     "start_time": "2023-11-23T05:37:53.897975716Z"
    }
   },
   "outputs": [],
   "source": [
    "test=data_shape(tar[:2],non[:2],typ,dout,utt)\n",
    "\n",
    "# que fait le code ci dessus, test=data_shape(tar[:2],non[:2],typ,dout,utt)?\n",
    "# on cree un dataframe avec les BA en colonnes et les vecteurs en lignes\n",
    "# on prend les deux premiers trials\n",
    "# on calcule les LLR partiels pour les deux premiers trials\n",
    "# on cree un dataframe avec les LLR partiels en colonnes et les trials en lignes\n",
    "# a quoi corresponnd un trial?: une paire d'indices d'utterances\n",
    "shape=explainer(test)\n",
    "test1=data_shape(tar,non,typ,dout,utt)"
   ]
  },
  {
   "cell_type": "code",
   "execution_count": null,
   "id": "63eb78ca",
   "metadata": {
    "pycharm": {
     "name": "#%%\n"
    },
    "ExecuteTime": {
     "start_time": "2023-11-23T05:37:53.898678029Z"
    }
   },
   "outputs": [],
   "source": [
    "shape.values=np.concatenate((np.array(df_llr_tar[BA_test]),np.array(df_llr_non[BA_test])),axis=0)\n",
    "shape.base_values=np.array([0.]*153516)\n",
    "shape.data=np.array(test1)"
   ]
  },
  {
   "cell_type": "markdown",
   "source": [
    "## Local explanation"
   ],
   "metadata": {
    "collapsed": false,
    "pycharm": {
     "name": "#%% md\n"
    }
   },
   "id": "8e617c87ccf14f96"
  },
  {
   "cell_type": "code",
   "execution_count": null,
   "id": "ca7b9cf3",
   "metadata": {
    "pycharm": {
     "name": "#%%\n"
    },
    "ExecuteTime": {
     "start_time": "2023-11-23T05:37:53.899075434Z"
    }
   },
   "outputs": [],
   "source": [
    "import shap\n",
    "shap.initjs()\n",
    "shap.plots.beeswarm(shape,206)"
   ]
  },
  {
   "cell_type": "code",
   "execution_count": null,
   "id": "503fd3f4",
   "metadata": {
    "pycharm": {
     "name": "#%%\n"
    },
    "ExecuteTime": {
     "start_time": "2023-11-23T05:37:53.899307324Z"
    }
   },
   "outputs": [],
   "source": [
    "shap.initjs()\n",
    "#prediction number 0\n",
    "shap.plots.force(shape[0])"
   ]
  },
  {
   "cell_type": "code",
   "execution_count": null,
   "id": "246be6a4",
   "metadata": {
    "pycharm": {
     "name": "#%%\n"
    },
    "ExecuteTime": {
     "start_time": "2023-11-23T05:37:53.899525157Z"
    }
   },
   "outputs": [],
   "source": [
    "shap.plots.waterfall(shape[-21])"
   ]
  },
  {
   "cell_type": "markdown",
   "source": [
    "## Global explanation"
   ],
   "metadata": {
    "collapsed": false,
    "pycharm": {
     "name": "#%% md\n"
    }
   },
   "id": "4a2dc72fd0297b92"
  },
  {
   "cell_type": "code",
   "execution_count": null,
   "id": "d6f0e18e",
   "metadata": {
    "pycharm": {
     "name": "#%%\n"
    },
    "ExecuteTime": {
     "start_time": "2023-11-23T05:37:53.899714486Z"
    }
   },
   "outputs": [],
   "source": [
    "contribution={}\n",
    "for b in BA_test:\n",
    "    contribution[b]=round((np.sum(np.abs(df_llr_tar[b]))+np.sum(np.abs(df_llr_non[b])))/(df_llr_non.shape[0]+df_llr_tar.shape[0]),3)\n",
    "contribution_dict={k: (v/sum(contribution.values()))*100 for k, v in sorted(contribution.items(), key=lambda item: item[1],reverse=True)}\n",
    "contribution_dict"
   ]
  },
  {
   "cell_type": "code",
   "execution_count": null,
   "id": "6b9eb7f3",
   "metadata": {
    "pycharm": {
     "name": "#%%\n"
    },
    "ExecuteTime": {
     "start_time": "2023-11-23T05:37:53.899902022Z"
    }
   },
   "outputs": [],
   "source": [
    "t=[]\n",
    "d=[]\n",
    "for i in contribution_dict.keys():\n",
    "    t.append(typ[i])\n",
    "    d.append(dout[i])\n",
    "df_scores=pd.DataFrame([contribution_dict])\n",
    "df_scores=df_scores.T\n",
    "df_scores.rename(columns = {0:'Contribution'}, inplace = True)\n",
    "df_scores[\"typicality\"]=t\n",
    "df_scores['dropout']=d\n",
    "df_scores[\"BA\"]=contribution_dict.keys()\n",
    "df_scores"
   ]
  },
  {
   "cell_type": "code",
   "execution_count": null,
   "id": "e1ae1bf5",
   "metadata": {
    "pycharm": {
     "name": "#%%\n"
    },
    "ExecuteTime": {
     "end_time": "2023-11-23T05:37:53.973259093Z",
     "start_time": "2023-11-23T05:37:53.900077786Z"
    }
   },
   "outputs": [],
   "source": [
    "import plotly.express as px\n",
    "\n",
    "fig=px.scatter(df_scores, x=\"typicality\", y=\"Contribution\", color=\"dropout\",title=\"Individual BA contribution Vs typicality & dropout \",width=500, height=400)\n",
    "fig.show()"
   ]
  },
  {
   "cell_type": "code",
   "execution_count": null,
   "id": "47abfe49",
   "metadata": {
    "pycharm": {
     "name": "#%%\n"
    },
    "ExecuteTime": {
     "start_time": "2023-11-23T05:37:53.900349952Z"
    }
   },
   "outputs": [],
   "source": []
  },
  {
   "cell_type": "code",
   "execution_count": null,
   "outputs": [],
   "source": [],
   "metadata": {
    "collapsed": false,
    "ExecuteTime": {
     "start_time": "2023-11-23T05:37:53.900657376Z"
    }
   },
   "id": "570c51936b5ab992"
  }
 ],
 "metadata": {
  "kernelspec": {
   "display_name": "Python 3 (ipykernel)",
   "language": "python",
   "name": "python3"
  },
  "language_info": {
   "codemirror_mode": {
    "name": "ipython",
    "version": 3
   },
   "file_extension": ".py",
   "mimetype": "text/x-python",
   "name": "python",
   "nbconvert_exporter": "python",
   "pygments_lexer": "ipython3",
   "version": "3.7.10"
  }
 },
 "nbformat": 4,
 "nbformat_minor": 5
}
